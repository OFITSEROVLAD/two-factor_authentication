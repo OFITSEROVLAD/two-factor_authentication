{
 "cells": [
  {
   "cell_type": "markdown",
   "metadata": {},
   "source": [
    "#\n",
    "#\n",
    "#\n",
    "###### by Vladislav Ofitserov"
   ]
  },
  {
   "cell_type": "code",
   "execution_count": 1,
   "metadata": {
    "ExecuteTime": {
     "end_time": "2019-12-31T12:21:29.284740Z",
     "start_time": "2019-12-31T12:21:21.716350Z"
    }
   },
   "outputs": [
    {
     "name": "stderr",
     "output_type": "stream",
     "text": [
      "/Users/ofitserovvladislav/anaconda3/lib/python3.7/site-packages/lightgbm/__init__.py:48: UserWarning: Starting from version 2.2.1, the library file in distribution wheels for macOS is built by the Apple Clang (Xcode_8.3.3) compiler.\n",
      "This means that in case of installing LightGBM from PyPI via the ``pip install lightgbm`` command, you don't need to install the gcc compiler anymore.\n",
      "Instead of that, you need to install the OpenMP library, which is required for running LightGBM on the system with the Apple Clang compiler.\n",
      "You can install the OpenMP library by the following command: ``brew install libomp``.\n",
      "  \"You can install the OpenMP library by the following command: ``brew install libomp``.\", UserWarning)\n"
     ]
    }
   ],
   "source": [
    "import cv2\n",
    "import time\n",
    "import numpy as np\n",
    "import pandas as pd\n",
    "from sklearn.model_selection import train_test_split\n",
    "from sklearn import linear_model\n",
    "from sklearn.svm import LinearSVC \n",
    "from sklearn.neighbors import KNeighborsClassifier\n",
    "from sklearn import svm\n",
    "from xgboost import XGBClassifier\n",
    "from sklearn.ensemble import AdaBoostClassifier\n",
    "from sklearn.ensemble import GradientBoostingClassifier\n",
    "from catboost import CatBoostClassifier\n",
    "from sklearn.model_selection import cross_val_score\n",
    "import lightgbm as lgbm\n",
    "import face_recognition\n",
    "import numpy as np\n",
    "from PIL import Image, ImageDraw\n",
    "from IPython.display import display\n",
    "import warnings\n",
    "warnings.filterwarnings('ignore')"
   ]
  },
  {
   "cell_type": "code",
   "execution_count": 112,
   "metadata": {
    "ExecuteTime": {
     "end_time": "2019-12-31T15:25:40.708942Z",
     "start_time": "2019-12-31T15:25:39.931451Z"
    }
   },
   "outputs": [],
   "source": [
    "# MODE = \"MPI\"\n",
    "protoFile = \"pose/mpi/pose_deploy_linevec_faster_4_stages.prototxt\"\n",
    "weightsFile = \"pose/mpi/pose_iter_160000.caffemodel\"\n",
    "nPoints = 15\n",
    "# POSE_PAIRS = [[0,1], [1,2], [2,3], [3,4], [1,5], [5,6], [6,7], [1,14], [14,8], [8,9], [9,10], [14,11], [11,12], [12,13] ]\n",
    "\n",
    "threshold = 0.1 #\n",
    "net = cv2.dnn.readNetFromCaffe(protoFile, weightsFile)"
   ]
  },
  {
   "cell_type": "markdown",
   "metadata": {},
   "source": [
    "### The function below needs only for data collection of motions:\n",
    "### The result:\n",
    "#### Pandas dataframe (number_of_videos, 100)\n",
    "### Algorithm:\n",
    "#### We will take only each forth frame of video(25 first of them). \n",
    "#### For each such frame append 4 features - coordinates of displacement  elbow and whrist relative to the shoulder. We use OpenPose network to find points of  elbow, whrist, shoulder"
   ]
  },
  {
   "cell_type": "code",
   "execution_count": 423,
   "metadata": {
    "ExecuteTime": {
     "end_time": "2020-01-05T15:07:52.643742Z",
     "start_time": "2020-01-05T15:07:52.615037Z"
    }
   },
   "outputs": [],
   "source": [
    "##if you want to see how сorrect a neural network works, you should uncomment lines starting with 1 character #\n",
    "def extract_video_features(input_sources):\n",
    "    n_iters = 25\n",
    "    all_points = []\n",
    "    for input_source in input_sources:\n",
    "        print(input_source)\n",
    "        cap = cv2.VideoCapture(input_source)\n",
    "        hasFrame, frame = cap.read()\n",
    "        \n",
    "        frameWidth = frame.shape[1]\n",
    "        frameHeight = frame.shape[0]\n",
    "        n_iter = 0\n",
    "        all_points_x = np.zeros(3, dtype = float).reshape(3,1)\n",
    "        all_points_y = np.zeros(3, dtype = float).reshape(3,1)\n",
    "        #vid_writer = cv2.VideoWriter('output.avi',cv2.VideoWriter_fourcc('M','J','P','G'), 10, (frame.shape[1],frame.shape[0]))\n",
    "        for k in range(n_iters):\n",
    "            hasFrame, frame = cap.read()\n",
    "            hasFrame, frame = cap.read()\n",
    "            hasFrame, frame = cap.read()\n",
    "            hasFrame, frame = cap.read()\n",
    "            if not hasFrame:\n",
    "                print(\"Video is too short, just \",n_iter*4, \"/100 frames \")\n",
    "                break\n",
    "            frameCopy = np.copy(frame)\n",
    "            \n",
    "            \n",
    "\n",
    "            inpBlob = cv2.dnn.blobFromImage(frame, 1.0 / 255, (frameWidth // 8, frameHeight // 8),(0, 0, 0), swapRB=False, crop=False)\n",
    "            net.setInput(inpBlob)\n",
    "            output = net.forward()\n",
    "\n",
    "            H = output.shape[2]\n",
    "            W = output.shape[3]\n",
    "                ## Array to store the detected keypoints in 1 frame\n",
    "            points_x = np.zeros(3, dtype = float).reshape(3,1)\n",
    "            points_y = np.zeros(3, dtype = float).reshape(3,1)\n",
    "\n",
    "            for i in [2,3,4]: \n",
    "                    ## confidence map of corresponding body's part.\n",
    "                probMap = output[0, i, :, :]\n",
    "\n",
    "                    ## Find global maxima of the probMap.\n",
    "                minVal, prob, minLoc, point = cv2.minMaxLoc(probMap)\n",
    "\n",
    "                    ## Scale the point to fit on the original image\n",
    "\n",
    "                x = point[0] / W\n",
    "                y = point[1] / H\n",
    "                \n",
    "                #cv2.circle(frameCopy, (int(x), int(y)), 8, (0, 255, 255), thickness=-1, lineType=cv2.FILLED)\n",
    "                #cv2.putText(frameCopy, \"{}\".format(i), (int(x), int(y)), cv2.FONT_HERSHEY_SIMPLEX, 1, (0, 0, 255), 2, lineType=cv2.LINE_AA)\n",
    "\n",
    "                points_x[i-2] = x \n",
    "                points_y[i-2] = y\n",
    "                \n",
    "\n",
    "                ## Draw Skeleton\n",
    "            #   for pair in POSE_PAIRS:\n",
    "            #       partA = pair[0]\n",
    "            #       partB = pair[1]\n",
    "            #       if points[partA] and points[partB]:\n",
    "            #           cv2.line(frame, points[partA], points[partB], (0, 255, 255), 3, lineType=cv2.LINE_AA)\n",
    "            #           cv2.circle(frame, points[partA], 8, (0, 0, 255), thickness=-1, lineType=cv2.FILLED)\n",
    "            #           cv2.circle(frame, points[partB], 8, (0, 0, 255), thickness=-1, lineType=cv2.FILLED)\n",
    "            all_points_x = np.hstack ([all_points_x, points_x], )\n",
    "            all_points_y = np.hstack ([all_points_y, points_y])\n",
    "\n",
    "            n_iter+=1\n",
    "            \n",
    "            #cv2.putText(frame, \"OpenPose using OpenCV\", (50, 50), cv2.FONT_HERSHEY_COMPLEX, 1, (255, 50, 0), 2, lineType=cv2.LINE_AA)\n",
    "            #cv2.imshow('Output-Keypoints', frameCopy)\n",
    "            #cv2.imshow('Output-Skeleton', frame)\n",
    "            #vid_writer.write(frameCopy)\n",
    "            #vid_writer.release()\n",
    " \n",
    "        all_points_x = all_points_x - all_points_x[0]\n",
    "        all_points_y = all_points_y - all_points_y[0]\n",
    "        \n",
    "        agdf, all_points_x, asdf = np.hsplit(all_points_x, [1,100000])\n",
    "        dsfgfsdg , all_points_y, asdf = np.hsplit(all_points_y, [1,100000])\n",
    "        \n",
    "        agdf, all_points_x, asdf = np.vsplit(all_points_x, [1,100000])\n",
    "        dsfgfsdg , all_points_y, asdf = np.vsplit(all_points_y, [1,100000])\n",
    "        \n",
    "        \n",
    "        image_vector = np.array(np.hstack ([all_points_x, all_points_y])).reshape(-1)\n",
    "        all_points.append(image_vector)\n",
    "    return pd.DataFrame({ 'Coord_points': all_points })"
   ]
  },
  {
   "cell_type": "markdown",
   "metadata": {},
   "source": [
    "## Dataset collection"
   ]
  },
  {
   "cell_type": "markdown",
   "metadata": {
    "ExecuteTime": {
     "end_time": "2019-12-31T12:26:13.297997Z",
     "start_time": "2019-12-31T12:26:13.293416Z"
    }
   },
   "source": [
    "### Faces"
   ]
  },
  {
   "cell_type": "code",
   "execution_count": 6,
   "metadata": {
    "ExecuteTime": {
     "end_time": "2019-12-31T12:28:09.819279Z",
     "start_time": "2019-12-31T12:28:07.309688Z"
    },
    "scrolled": true
   },
   "outputs": [
    {
     "name": "stdout",
     "output_type": "stream",
     "text": [
      "Learned encoding for 2 images.\n"
     ]
    }
   ],
   "source": [
    "# Load a sample picture and learn how to recognize it.\n",
    "# We'll load a first frame of video \n",
    "cap = cv2.VideoCapture(\"/Users/ofitserovvladislav/Downloads/IMG_9796.mp4\")\n",
    "hasFrame, frame = cap.read()\n",
    "frame = cv2.cvtColor(frame, cv2.COLOR_BGR2RGB)\n",
    "shestakov_face_encoding = face_recognition.face_encodings(frame)[0]\n",
    "\n",
    "# Load a second sample picture and learn how to recognize it.\n",
    "cap = cv2.VideoCapture(\"/Users/ofitserovvladislav/Public/OPENpose/OpenPose/Video/Поднятие руки/9.mp4\")\n",
    "hasFrame, frame = cap.read()\n",
    "frame = cv2.cvtColor(frame, cv2.COLOR_BGR2RGB)\n",
    "ofitserov_face_encoding = face_recognition.face_encodings(frame)[0]\n",
    "\n",
    "# Create arrays of known face encodings and their names\n",
    "known_face_encodings = [\n",
    "    shestakov_face_encoding,\n",
    "    ofitserov_face_encoding\n",
    "]\n",
    "known_face_names = [\n",
    "    \"Andrey Shestacov\",\n",
    "    \"Ofitserov Vlad\"\n",
    "]\n",
    "print('Learned encoding for', len(known_face_encodings), 'images.')"
   ]
  },
  {
   "cell_type": "markdown",
   "metadata": {
    "ExecuteTime": {
     "end_time": "2019-12-31T12:29:16.966716Z",
     "start_time": "2019-12-31T12:29:16.961575Z"
    }
   },
   "source": [
    "### Hand gesture"
   ]
  },
  {
   "cell_type": "markdown",
   "metadata": {
    "ExecuteTime": {
     "end_time": "2019-12-31T12:30:39.123112Z",
     "start_time": "2019-12-31T12:30:39.116607Z"
    }
   },
   "source": [
    "#### I've already executed the cell below, saved all results and uploaded them. (cause running of such sell took about (number of videos * 19 ) seconds"
   ]
  },
  {
   "cell_type": "code",
   "execution_count": 464,
   "metadata": {
    "ExecuteTime": {
     "end_time": "2020-01-05T15:39:08.445073Z",
     "start_time": "2020-01-05T15:39:08.435811Z"
    }
   },
   "outputs": [],
   "source": [
    "# input_sources_hello_1 = [*links on videos with hello motion*]\n",
    "# video_features_hello_1_ = extract_video_features(input_sources_hello_1)\n",
    "# video_features_hello_1_.to_pickle(\"./hello_1_.pkl\")"
   ]
  },
  {
   "cell_type": "code",
   "execution_count": 456,
   "metadata": {
    "ExecuteTime": {
     "end_time": "2020-01-05T15:14:52.111220Z",
     "start_time": "2020-01-05T15:14:52.085094Z"
    }
   },
   "outputs": [
    {
     "data": {
      "text/html": [
       "<div>\n",
       "<style scoped>\n",
       "    .dataframe tbody tr th:only-of-type {\n",
       "        vertical-align: middle;\n",
       "    }\n",
       "\n",
       "    .dataframe tbody tr th {\n",
       "        vertical-align: top;\n",
       "    }\n",
       "\n",
       "    .dataframe thead th {\n",
       "        text-align: right;\n",
       "    }\n",
       "</style>\n",
       "<table border=\"1\" class=\"dataframe\">\n",
       "  <thead>\n",
       "    <tr style=\"text-align: right;\">\n",
       "      <th></th>\n",
       "      <th>Coord_points</th>\n",
       "      <th>target</th>\n",
       "    </tr>\n",
       "  </thead>\n",
       "  <tbody>\n",
       "    <tr>\n",
       "      <th>0</th>\n",
       "      <td>[-0.05882352941176472, -0.11764705882352938, -...</td>\n",
       "      <td>Приветствие</td>\n",
       "    </tr>\n",
       "    <tr>\n",
       "      <th>1</th>\n",
       "      <td>[-0.05882352941176466, -0.05882352941176466, -...</td>\n",
       "      <td>Приветствие</td>\n",
       "    </tr>\n",
       "    <tr>\n",
       "      <th>2</th>\n",
       "      <td>[-0.11764705882352938, -0.05882352941176472, -...</td>\n",
       "      <td>Приветствие</td>\n",
       "    </tr>\n",
       "    <tr>\n",
       "      <th>3</th>\n",
       "      <td>[0.0, -0.05882352941176472, -0.058823529411764...</td>\n",
       "      <td>Приветствие</td>\n",
       "    </tr>\n",
       "    <tr>\n",
       "      <th>4</th>\n",
       "      <td>[0.0, -0.05882352941176472, -0.117647058823529...</td>\n",
       "      <td>Приветствие</td>\n",
       "    </tr>\n",
       "  </tbody>\n",
       "</table>\n",
       "</div>"
      ],
      "text/plain": [
       "                                        Coord_points       target\n",
       "0  [-0.05882352941176472, -0.11764705882352938, -...  Приветствие\n",
       "1  [-0.05882352941176466, -0.05882352941176466, -...  Приветствие\n",
       "2  [-0.11764705882352938, -0.05882352941176472, -...  Приветствие\n",
       "3  [0.0, -0.05882352941176472, -0.058823529411764...  Приветствие\n",
       "4  [0.0, -0.05882352941176472, -0.117647058823529...  Приветствие"
      ]
     },
     "execution_count": 456,
     "metadata": {},
     "output_type": "execute_result"
    }
   ],
   "source": [
    "unpickled_hello_1_ = pd.read_pickle(\"./hello_1_8.pkl\")\n",
    "unpickled_hello_1_['target'] = \"Приветствие\"\n",
    "unpickled_hello_1_.head()"
   ]
  },
  {
   "cell_type": "markdown",
   "metadata": {
    "ExecuteTime": {
     "end_time": "2019-12-31T12:37:48.771431Z",
     "start_time": "2019-12-31T12:37:48.765746Z"
    }
   },
   "source": [
    "#### Let's delete videos which consists of less than 100 frames"
   ]
  },
  {
   "cell_type": "code",
   "execution_count": 457,
   "metadata": {
    "ExecuteTime": {
     "end_time": "2020-01-05T15:14:55.585442Z",
     "start_time": "2020-01-05T15:14:55.571370Z"
    }
   },
   "outputs": [
    {
     "name": "stdout",
     "output_type": "stream",
     "text": [
      "7\n",
      "17\n"
     ]
    }
   ],
   "source": [
    "norm_video_features_hello_1_ = unpickled_hello_1_\n",
    "k = 0\n",
    "for i in range (32):\n",
    "    if len(unpickled_hello_1_['Coord_points'][i]) < 100:\n",
    "        print(i)\n",
    "        norm_video_features_hello_1_ = norm_video_features_hello_1_.drop([i - k]).reset_index(drop=True)\n",
    "        k += 1\n",
    "\n"
   ]
  },
  {
   "cell_type": "markdown",
   "metadata": {
    "ExecuteTime": {
     "end_time": "2020-01-05T15:40:12.031140Z",
     "start_time": "2020-01-05T15:40:12.024325Z"
    }
   },
   "source": [
    "#### Dataframe making"
   ]
  },
  {
   "cell_type": "code",
   "execution_count": 458,
   "metadata": {
    "ExecuteTime": {
     "end_time": "2020-01-05T15:14:56.692748Z",
     "start_time": "2020-01-05T15:14:56.301914Z"
    },
    "scrolled": true
   },
   "outputs": [
    {
     "data": {
      "text/html": [
       "<div>\n",
       "<style scoped>\n",
       "    .dataframe tbody tr th:only-of-type {\n",
       "        vertical-align: middle;\n",
       "    }\n",
       "\n",
       "    .dataframe tbody tr th {\n",
       "        vertical-align: top;\n",
       "    }\n",
       "\n",
       "    .dataframe thead th {\n",
       "        text-align: right;\n",
       "    }\n",
       "</style>\n",
       "<table border=\"1\" class=\"dataframe\">\n",
       "  <thead>\n",
       "    <tr style=\"text-align: right;\">\n",
       "      <th></th>\n",
       "      <th>target</th>\n",
       "      <th>1</th>\n",
       "      <th>2</th>\n",
       "      <th>3</th>\n",
       "      <th>4</th>\n",
       "      <th>5</th>\n",
       "      <th>6</th>\n",
       "      <th>7</th>\n",
       "      <th>8</th>\n",
       "      <th>9</th>\n",
       "      <th>...</th>\n",
       "      <th>91</th>\n",
       "      <th>92</th>\n",
       "      <th>93</th>\n",
       "      <th>94</th>\n",
       "      <th>95</th>\n",
       "      <th>96</th>\n",
       "      <th>97</th>\n",
       "      <th>98</th>\n",
       "      <th>99</th>\n",
       "      <th>100</th>\n",
       "    </tr>\n",
       "  </thead>\n",
       "  <tbody>\n",
       "    <tr>\n",
       "      <th>0</th>\n",
       "      <td>Приветствие</td>\n",
       "      <td>-0.058824</td>\n",
       "      <td>-0.117647</td>\n",
       "      <td>-0.176471</td>\n",
       "      <td>-0.176471</td>\n",
       "      <td>-0.176471</td>\n",
       "      <td>-0.235294</td>\n",
       "      <td>-0.176471</td>\n",
       "      <td>-0.235294</td>\n",
       "      <td>-0.176471</td>\n",
       "      <td>...</td>\n",
       "      <td>-0.133333</td>\n",
       "      <td>-0.133333</td>\n",
       "      <td>-0.100000</td>\n",
       "      <td>-0.133333</td>\n",
       "      <td>-0.133333</td>\n",
       "      <td>-0.133333</td>\n",
       "      <td>-0.133333</td>\n",
       "      <td>-0.133333</td>\n",
       "      <td>-0.133333</td>\n",
       "      <td>-0.133333</td>\n",
       "    </tr>\n",
       "    <tr>\n",
       "      <th>1</th>\n",
       "      <td>Приветствие</td>\n",
       "      <td>-0.058824</td>\n",
       "      <td>-0.058824</td>\n",
       "      <td>-0.058824</td>\n",
       "      <td>-0.058824</td>\n",
       "      <td>-0.117647</td>\n",
       "      <td>-0.117647</td>\n",
       "      <td>-0.117647</td>\n",
       "      <td>-0.176471</td>\n",
       "      <td>-0.176471</td>\n",
       "      <td>...</td>\n",
       "      <td>-0.033333</td>\n",
       "      <td>-0.033333</td>\n",
       "      <td>-0.033333</td>\n",
       "      <td>-0.033333</td>\n",
       "      <td>-0.033333</td>\n",
       "      <td>-0.033333</td>\n",
       "      <td>-0.033333</td>\n",
       "      <td>-0.033333</td>\n",
       "      <td>-0.033333</td>\n",
       "      <td>-0.033333</td>\n",
       "    </tr>\n",
       "    <tr>\n",
       "      <th>2</th>\n",
       "      <td>Приветствие</td>\n",
       "      <td>-0.117647</td>\n",
       "      <td>-0.058824</td>\n",
       "      <td>-0.117647</td>\n",
       "      <td>-0.117647</td>\n",
       "      <td>-0.117647</td>\n",
       "      <td>-0.117647</td>\n",
       "      <td>-0.117647</td>\n",
       "      <td>-0.176471</td>\n",
       "      <td>-0.176471</td>\n",
       "      <td>...</td>\n",
       "      <td>-0.066667</td>\n",
       "      <td>-0.066667</td>\n",
       "      <td>-0.066667</td>\n",
       "      <td>-0.066667</td>\n",
       "      <td>-0.066667</td>\n",
       "      <td>-0.033333</td>\n",
       "      <td>-0.033333</td>\n",
       "      <td>-0.033333</td>\n",
       "      <td>-0.033333</td>\n",
       "      <td>-0.033333</td>\n",
       "    </tr>\n",
       "    <tr>\n",
       "      <th>3</th>\n",
       "      <td>Приветствие</td>\n",
       "      <td>0.000000</td>\n",
       "      <td>-0.058824</td>\n",
       "      <td>-0.058824</td>\n",
       "      <td>-0.117647</td>\n",
       "      <td>-0.117647</td>\n",
       "      <td>-0.117647</td>\n",
       "      <td>-0.117647</td>\n",
       "      <td>-0.117647</td>\n",
       "      <td>-0.117647</td>\n",
       "      <td>...</td>\n",
       "      <td>-0.066667</td>\n",
       "      <td>-0.066667</td>\n",
       "      <td>-0.033333</td>\n",
       "      <td>-0.033333</td>\n",
       "      <td>-0.033333</td>\n",
       "      <td>-0.066667</td>\n",
       "      <td>-0.033333</td>\n",
       "      <td>-0.033333</td>\n",
       "      <td>-0.066667</td>\n",
       "      <td>-0.066667</td>\n",
       "    </tr>\n",
       "    <tr>\n",
       "      <th>4</th>\n",
       "      <td>Приветствие</td>\n",
       "      <td>0.000000</td>\n",
       "      <td>-0.058824</td>\n",
       "      <td>-0.117647</td>\n",
       "      <td>-0.176471</td>\n",
       "      <td>-0.176471</td>\n",
       "      <td>-0.176471</td>\n",
       "      <td>-0.176471</td>\n",
       "      <td>-0.176471</td>\n",
       "      <td>-0.117647</td>\n",
       "      <td>...</td>\n",
       "      <td>-0.066667</td>\n",
       "      <td>-0.066667</td>\n",
       "      <td>-0.066667</td>\n",
       "      <td>-0.066667</td>\n",
       "      <td>-0.066667</td>\n",
       "      <td>-0.066667</td>\n",
       "      <td>-0.066667</td>\n",
       "      <td>-0.066667</td>\n",
       "      <td>-0.066667</td>\n",
       "      <td>-0.033333</td>\n",
       "    </tr>\n",
       "  </tbody>\n",
       "</table>\n",
       "<p>5 rows × 101 columns</p>\n",
       "</div>"
      ],
      "text/plain": [
       "        target         1         2         3         4         5         6  \\\n",
       "0  Приветствие -0.058824 -0.117647 -0.176471 -0.176471 -0.176471 -0.235294   \n",
       "1  Приветствие -0.058824 -0.058824 -0.058824 -0.058824 -0.117647 -0.117647   \n",
       "2  Приветствие -0.117647 -0.058824 -0.117647 -0.117647 -0.117647 -0.117647   \n",
       "3  Приветствие  0.000000 -0.058824 -0.058824 -0.117647 -0.117647 -0.117647   \n",
       "4  Приветствие  0.000000 -0.058824 -0.117647 -0.176471 -0.176471 -0.176471   \n",
       "\n",
       "          7         8         9  ...        91        92        93        94  \\\n",
       "0 -0.176471 -0.235294 -0.176471  ... -0.133333 -0.133333 -0.100000 -0.133333   \n",
       "1 -0.117647 -0.176471 -0.176471  ... -0.033333 -0.033333 -0.033333 -0.033333   \n",
       "2 -0.117647 -0.176471 -0.176471  ... -0.066667 -0.066667 -0.066667 -0.066667   \n",
       "3 -0.117647 -0.117647 -0.117647  ... -0.066667 -0.066667 -0.033333 -0.033333   \n",
       "4 -0.176471 -0.176471 -0.117647  ... -0.066667 -0.066667 -0.066667 -0.066667   \n",
       "\n",
       "         95        96        97        98        99       100  \n",
       "0 -0.133333 -0.133333 -0.133333 -0.133333 -0.133333 -0.133333  \n",
       "1 -0.033333 -0.033333 -0.033333 -0.033333 -0.033333 -0.033333  \n",
       "2 -0.066667 -0.033333 -0.033333 -0.033333 -0.033333 -0.033333  \n",
       "3 -0.033333 -0.066667 -0.033333 -0.033333 -0.066667 -0.066667  \n",
       "4 -0.066667 -0.066667 -0.066667 -0.066667 -0.066667 -0.033333  \n",
       "\n",
       "[5 rows x 101 columns]"
      ]
     },
     "execution_count": 458,
     "metadata": {},
     "output_type": "execute_result"
    }
   ],
   "source": [
    "for i in range(100):\n",
    "    norm_video_features_hello_1_[\"{}\".format(i+1)] = 999.0\n",
    "    for j in range(30):\n",
    "        norm_video_features_hello_1_[\"{}\".format(i+1)][j] = norm_video_features_hello_1_['Coord_points'][j][i]\n",
    "norm_video_features_hello_1_ = norm_video_features_hello_1_.drop(['Coord_points'], axis = 1)\n",
    "norm_video_features_hello_1_.head()"
   ]
  },
  {
   "cell_type": "markdown",
   "metadata": {
    "ExecuteTime": {
     "end_time": "2019-12-31T12:44:30.464806Z",
     "start_time": "2019-12-31T12:44:30.458839Z"
    }
   },
   "source": [
    "#### The same actions for another gesture\n"
   ]
  },
  {
   "cell_type": "code",
   "execution_count": 463,
   "metadata": {
    "ExecuteTime": {
     "end_time": "2020-01-05T15:39:04.421384Z",
     "start_time": "2020-01-05T15:39:04.407250Z"
    }
   },
   "outputs": [],
   "source": [
    "# input_sources_raising_1 = [*links on videos with raising_hand motion*]\n",
    "# video_features_raising_1 = extract_video_features(input_sources_raising_1)\n",
    "# video_features_raising_1.to_pickle(\"./raising_1_.pkl\")"
   ]
  },
  {
   "cell_type": "code",
   "execution_count": 459,
   "metadata": {
    "ExecuteTime": {
     "end_time": "2020-01-05T15:15:01.597375Z",
     "start_time": "2020-01-05T15:15:01.572759Z"
    }
   },
   "outputs": [
    {
     "data": {
      "text/html": [
       "<div>\n",
       "<style scoped>\n",
       "    .dataframe tbody tr th:only-of-type {\n",
       "        vertical-align: middle;\n",
       "    }\n",
       "\n",
       "    .dataframe tbody tr th {\n",
       "        vertical-align: top;\n",
       "    }\n",
       "\n",
       "    .dataframe thead th {\n",
       "        text-align: right;\n",
       "    }\n",
       "</style>\n",
       "<table border=\"1\" class=\"dataframe\">\n",
       "  <thead>\n",
       "    <tr style=\"text-align: right;\">\n",
       "      <th></th>\n",
       "      <th>Coord_points</th>\n",
       "      <th>target</th>\n",
       "    </tr>\n",
       "  </thead>\n",
       "  <tbody>\n",
       "    <tr>\n",
       "      <th>0</th>\n",
       "      <td>[0.0, 0.0, 0.0, 0.0, -0.05882352941176472, -0....</td>\n",
       "      <td>Поднятие руки</td>\n",
       "    </tr>\n",
       "    <tr>\n",
       "      <th>1</th>\n",
       "      <td>[0.0, 0.0, -0.11764705882352938, -0.1764705882...</td>\n",
       "      <td>Поднятие руки</td>\n",
       "    </tr>\n",
       "    <tr>\n",
       "      <th>2</th>\n",
       "      <td>[-0.1764705882352941, -0.11764705882352938, -0...</td>\n",
       "      <td>Поднятие руки</td>\n",
       "    </tr>\n",
       "    <tr>\n",
       "      <th>3</th>\n",
       "      <td>[0.0, -0.05882352941176472, -0.117647058823529...</td>\n",
       "      <td>Поднятие руки</td>\n",
       "    </tr>\n",
       "    <tr>\n",
       "      <th>4</th>\n",
       "      <td>[-0.17647058823529416, -0.17647058823529416, -...</td>\n",
       "      <td>Поднятие руки</td>\n",
       "    </tr>\n",
       "  </tbody>\n",
       "</table>\n",
       "</div>"
      ],
      "text/plain": [
       "                                        Coord_points         target\n",
       "0  [0.0, 0.0, 0.0, 0.0, -0.05882352941176472, -0....  Поднятие руки\n",
       "1  [0.0, 0.0, -0.11764705882352938, -0.1764705882...  Поднятие руки\n",
       "2  [-0.1764705882352941, -0.11764705882352938, -0...  Поднятие руки\n",
       "3  [0.0, -0.05882352941176472, -0.117647058823529...  Поднятие руки\n",
       "4  [-0.17647058823529416, -0.17647058823529416, -...  Поднятие руки"
      ]
     },
     "execution_count": 459,
     "metadata": {},
     "output_type": "execute_result"
    }
   ],
   "source": [
    "unpickled_raising_1_ = pd.read_pickle(\"./raising_1_8.pkl\")\n",
    "unpickled_raising_1_['target'] = \"Поднятие руки\"\n",
    "unpickled_raising_1_.head()"
   ]
  },
  {
   "cell_type": "code",
   "execution_count": 460,
   "metadata": {
    "ExecuteTime": {
     "end_time": "2020-01-05T15:15:04.022274Z",
     "start_time": "2020-01-05T15:15:04.011495Z"
    }
   },
   "outputs": [],
   "source": [
    "norm_video_features_raising_1_ = unpickled_raising_1_\n",
    "k = 0\n",
    "for i in range (18):\n",
    "    if len(unpickled_raising_1_['Coord_points'][i]) < 100:\n",
    "        print(i)\n",
    "        norm_video_features_raising_1_ = norm_video_features_raising_1_.drop([i - k]).reset_index(drop=True)\n",
    "        k += 1"
   ]
  },
  {
   "cell_type": "code",
   "execution_count": 461,
   "metadata": {
    "ExecuteTime": {
     "end_time": "2020-01-05T15:15:04.740229Z",
     "start_time": "2020-01-05T15:15:04.377537Z"
    }
   },
   "outputs": [
    {
     "data": {
      "text/html": [
       "<div>\n",
       "<style scoped>\n",
       "    .dataframe tbody tr th:only-of-type {\n",
       "        vertical-align: middle;\n",
       "    }\n",
       "\n",
       "    .dataframe tbody tr th {\n",
       "        vertical-align: top;\n",
       "    }\n",
       "\n",
       "    .dataframe thead th {\n",
       "        text-align: right;\n",
       "    }\n",
       "</style>\n",
       "<table border=\"1\" class=\"dataframe\">\n",
       "  <thead>\n",
       "    <tr style=\"text-align: right;\">\n",
       "      <th></th>\n",
       "      <th>target</th>\n",
       "      <th>1</th>\n",
       "      <th>2</th>\n",
       "      <th>3</th>\n",
       "      <th>4</th>\n",
       "      <th>5</th>\n",
       "      <th>6</th>\n",
       "      <th>7</th>\n",
       "      <th>8</th>\n",
       "      <th>9</th>\n",
       "      <th>...</th>\n",
       "      <th>91</th>\n",
       "      <th>92</th>\n",
       "      <th>93</th>\n",
       "      <th>94</th>\n",
       "      <th>95</th>\n",
       "      <th>96</th>\n",
       "      <th>97</th>\n",
       "      <th>98</th>\n",
       "      <th>99</th>\n",
       "      <th>100</th>\n",
       "    </tr>\n",
       "  </thead>\n",
       "  <tbody>\n",
       "    <tr>\n",
       "      <th>0</th>\n",
       "      <td>Поднятие руки</td>\n",
       "      <td>0.000000</td>\n",
       "      <td>0.000000</td>\n",
       "      <td>0.000000</td>\n",
       "      <td>0.000000</td>\n",
       "      <td>-0.058824</td>\n",
       "      <td>-0.176471</td>\n",
       "      <td>-0.176471</td>\n",
       "      <td>-0.176471</td>\n",
       "      <td>-0.176471</td>\n",
       "      <td>...</td>\n",
       "      <td>0.200000</td>\n",
       "      <td>0.200000</td>\n",
       "      <td>0.166667</td>\n",
       "      <td>0.166667</td>\n",
       "      <td>0.100000</td>\n",
       "      <td>0.000000</td>\n",
       "      <td>-0.100000</td>\n",
       "      <td>-0.100000</td>\n",
       "      <td>-0.100000</td>\n",
       "      <td>-0.033333</td>\n",
       "    </tr>\n",
       "    <tr>\n",
       "      <th>1</th>\n",
       "      <td>Поднятие руки</td>\n",
       "      <td>0.000000</td>\n",
       "      <td>0.000000</td>\n",
       "      <td>-0.117647</td>\n",
       "      <td>-0.176471</td>\n",
       "      <td>-0.117647</td>\n",
       "      <td>-0.117647</td>\n",
       "      <td>-0.117647</td>\n",
       "      <td>-0.117647</td>\n",
       "      <td>-0.117647</td>\n",
       "      <td>...</td>\n",
       "      <td>0.200000</td>\n",
       "      <td>0.100000</td>\n",
       "      <td>0.033333</td>\n",
       "      <td>-0.066667</td>\n",
       "      <td>-0.100000</td>\n",
       "      <td>-0.066667</td>\n",
       "      <td>0.033333</td>\n",
       "      <td>0.133333</td>\n",
       "      <td>0.233333</td>\n",
       "      <td>0.233333</td>\n",
       "    </tr>\n",
       "    <tr>\n",
       "      <th>2</th>\n",
       "      <td>Поднятие руки</td>\n",
       "      <td>-0.176471</td>\n",
       "      <td>-0.117647</td>\n",
       "      <td>-0.117647</td>\n",
       "      <td>-0.176471</td>\n",
       "      <td>-0.117647</td>\n",
       "      <td>-0.058824</td>\n",
       "      <td>-0.058824</td>\n",
       "      <td>-0.058824</td>\n",
       "      <td>-0.117647</td>\n",
       "      <td>...</td>\n",
       "      <td>0.233333</td>\n",
       "      <td>0.200000</td>\n",
       "      <td>0.100000</td>\n",
       "      <td>0.000000</td>\n",
       "      <td>-0.066667</td>\n",
       "      <td>-0.033333</td>\n",
       "      <td>0.066667</td>\n",
       "      <td>0.166667</td>\n",
       "      <td>0.233333</td>\n",
       "      <td>0.233333</td>\n",
       "    </tr>\n",
       "    <tr>\n",
       "      <th>3</th>\n",
       "      <td>Поднятие руки</td>\n",
       "      <td>0.000000</td>\n",
       "      <td>-0.058824</td>\n",
       "      <td>-0.117647</td>\n",
       "      <td>-0.117647</td>\n",
       "      <td>-0.176471</td>\n",
       "      <td>-0.176471</td>\n",
       "      <td>-0.176471</td>\n",
       "      <td>-0.176471</td>\n",
       "      <td>-0.176471</td>\n",
       "      <td>...</td>\n",
       "      <td>0.133333</td>\n",
       "      <td>0.166667</td>\n",
       "      <td>0.200000</td>\n",
       "      <td>0.200000</td>\n",
       "      <td>0.233333</td>\n",
       "      <td>0.233333</td>\n",
       "      <td>0.233333</td>\n",
       "      <td>0.233333</td>\n",
       "      <td>0.233333</td>\n",
       "      <td>0.233333</td>\n",
       "    </tr>\n",
       "    <tr>\n",
       "      <th>4</th>\n",
       "      <td>Поднятие руки</td>\n",
       "      <td>-0.176471</td>\n",
       "      <td>-0.176471</td>\n",
       "      <td>-0.176471</td>\n",
       "      <td>-0.176471</td>\n",
       "      <td>-0.176471</td>\n",
       "      <td>-0.176471</td>\n",
       "      <td>-0.176471</td>\n",
       "      <td>-0.176471</td>\n",
       "      <td>-0.176471</td>\n",
       "      <td>...</td>\n",
       "      <td>0.200000</td>\n",
       "      <td>0.166667</td>\n",
       "      <td>0.133333</td>\n",
       "      <td>0.100000</td>\n",
       "      <td>0.066667</td>\n",
       "      <td>0.033333</td>\n",
       "      <td>0.033333</td>\n",
       "      <td>0.000000</td>\n",
       "      <td>-0.033333</td>\n",
       "      <td>-0.033333</td>\n",
       "    </tr>\n",
       "  </tbody>\n",
       "</table>\n",
       "<p>5 rows × 101 columns</p>\n",
       "</div>"
      ],
      "text/plain": [
       "          target         1         2         3         4         5         6  \\\n",
       "0  Поднятие руки  0.000000  0.000000  0.000000  0.000000 -0.058824 -0.176471   \n",
       "1  Поднятие руки  0.000000  0.000000 -0.117647 -0.176471 -0.117647 -0.117647   \n",
       "2  Поднятие руки -0.176471 -0.117647 -0.117647 -0.176471 -0.117647 -0.058824   \n",
       "3  Поднятие руки  0.000000 -0.058824 -0.117647 -0.117647 -0.176471 -0.176471   \n",
       "4  Поднятие руки -0.176471 -0.176471 -0.176471 -0.176471 -0.176471 -0.176471   \n",
       "\n",
       "          7         8         9  ...        91        92        93        94  \\\n",
       "0 -0.176471 -0.176471 -0.176471  ...  0.200000  0.200000  0.166667  0.166667   \n",
       "1 -0.117647 -0.117647 -0.117647  ...  0.200000  0.100000  0.033333 -0.066667   \n",
       "2 -0.058824 -0.058824 -0.117647  ...  0.233333  0.200000  0.100000  0.000000   \n",
       "3 -0.176471 -0.176471 -0.176471  ...  0.133333  0.166667  0.200000  0.200000   \n",
       "4 -0.176471 -0.176471 -0.176471  ...  0.200000  0.166667  0.133333  0.100000   \n",
       "\n",
       "         95        96        97        98        99       100  \n",
       "0  0.100000  0.000000 -0.100000 -0.100000 -0.100000 -0.033333  \n",
       "1 -0.100000 -0.066667  0.033333  0.133333  0.233333  0.233333  \n",
       "2 -0.066667 -0.033333  0.066667  0.166667  0.233333  0.233333  \n",
       "3  0.233333  0.233333  0.233333  0.233333  0.233333  0.233333  \n",
       "4  0.066667  0.033333  0.033333  0.000000 -0.033333 -0.033333  \n",
       "\n",
       "[5 rows x 101 columns]"
      ]
     },
     "execution_count": 461,
     "metadata": {},
     "output_type": "execute_result"
    }
   ],
   "source": [
    "for i in range(100):\n",
    "    norm_video_features_raising_1_[\"{}\".format(i+1)] = 999.0\n",
    "    for j in range(18):\n",
    "        norm_video_features_raising_1_[\"{}\".format(i+1)][j] = norm_video_features_raising_1_['Coord_points'][j][i]\n",
    "norm_video_features_raising_1_ = norm_video_features_raising_1_.drop(['Coord_points'], axis = 1)\n",
    "norm_video_features_raising_1_.head()"
   ]
  },
  {
   "cell_type": "markdown",
   "metadata": {
    "ExecuteTime": {
     "end_time": "2020-01-05T15:41:08.419527Z",
     "start_time": "2020-01-05T15:41:08.412504Z"
    }
   },
   "source": [
    "#### Union of all dataframes in one"
   ]
  },
  {
   "cell_type": "code",
   "execution_count": 462,
   "metadata": {
    "ExecuteTime": {
     "end_time": "2020-01-05T15:15:06.988182Z",
     "start_time": "2020-01-05T15:15:06.954594Z"
    }
   },
   "outputs": [
    {
     "data": {
      "text/html": [
       "<div>\n",
       "<style scoped>\n",
       "    .dataframe tbody tr th:only-of-type {\n",
       "        vertical-align: middle;\n",
       "    }\n",
       "\n",
       "    .dataframe tbody tr th {\n",
       "        vertical-align: top;\n",
       "    }\n",
       "\n",
       "    .dataframe thead th {\n",
       "        text-align: right;\n",
       "    }\n",
       "</style>\n",
       "<table border=\"1\" class=\"dataframe\">\n",
       "  <thead>\n",
       "    <tr style=\"text-align: right;\">\n",
       "      <th></th>\n",
       "      <th>target</th>\n",
       "      <th>1</th>\n",
       "      <th>2</th>\n",
       "      <th>3</th>\n",
       "      <th>4</th>\n",
       "      <th>5</th>\n",
       "      <th>6</th>\n",
       "      <th>7</th>\n",
       "      <th>8</th>\n",
       "      <th>9</th>\n",
       "      <th>...</th>\n",
       "      <th>91</th>\n",
       "      <th>92</th>\n",
       "      <th>93</th>\n",
       "      <th>94</th>\n",
       "      <th>95</th>\n",
       "      <th>96</th>\n",
       "      <th>97</th>\n",
       "      <th>98</th>\n",
       "      <th>99</th>\n",
       "      <th>100</th>\n",
       "    </tr>\n",
       "  </thead>\n",
       "  <tbody>\n",
       "    <tr>\n",
       "      <th>0</th>\n",
       "      <td>Приветствие</td>\n",
       "      <td>-0.058824</td>\n",
       "      <td>-0.117647</td>\n",
       "      <td>-0.176471</td>\n",
       "      <td>-0.176471</td>\n",
       "      <td>-0.176471</td>\n",
       "      <td>-0.235294</td>\n",
       "      <td>-0.176471</td>\n",
       "      <td>-0.235294</td>\n",
       "      <td>-0.176471</td>\n",
       "      <td>...</td>\n",
       "      <td>-0.133333</td>\n",
       "      <td>-0.133333</td>\n",
       "      <td>-0.100000</td>\n",
       "      <td>-0.133333</td>\n",
       "      <td>-0.133333</td>\n",
       "      <td>-0.133333</td>\n",
       "      <td>-0.133333</td>\n",
       "      <td>-0.133333</td>\n",
       "      <td>-0.133333</td>\n",
       "      <td>-0.133333</td>\n",
       "    </tr>\n",
       "    <tr>\n",
       "      <th>1</th>\n",
       "      <td>Приветствие</td>\n",
       "      <td>-0.058824</td>\n",
       "      <td>-0.058824</td>\n",
       "      <td>-0.058824</td>\n",
       "      <td>-0.058824</td>\n",
       "      <td>-0.117647</td>\n",
       "      <td>-0.117647</td>\n",
       "      <td>-0.117647</td>\n",
       "      <td>-0.176471</td>\n",
       "      <td>-0.176471</td>\n",
       "      <td>...</td>\n",
       "      <td>-0.033333</td>\n",
       "      <td>-0.033333</td>\n",
       "      <td>-0.033333</td>\n",
       "      <td>-0.033333</td>\n",
       "      <td>-0.033333</td>\n",
       "      <td>-0.033333</td>\n",
       "      <td>-0.033333</td>\n",
       "      <td>-0.033333</td>\n",
       "      <td>-0.033333</td>\n",
       "      <td>-0.033333</td>\n",
       "    </tr>\n",
       "    <tr>\n",
       "      <th>2</th>\n",
       "      <td>Приветствие</td>\n",
       "      <td>-0.117647</td>\n",
       "      <td>-0.058824</td>\n",
       "      <td>-0.117647</td>\n",
       "      <td>-0.117647</td>\n",
       "      <td>-0.117647</td>\n",
       "      <td>-0.117647</td>\n",
       "      <td>-0.117647</td>\n",
       "      <td>-0.176471</td>\n",
       "      <td>-0.176471</td>\n",
       "      <td>...</td>\n",
       "      <td>-0.066667</td>\n",
       "      <td>-0.066667</td>\n",
       "      <td>-0.066667</td>\n",
       "      <td>-0.066667</td>\n",
       "      <td>-0.066667</td>\n",
       "      <td>-0.033333</td>\n",
       "      <td>-0.033333</td>\n",
       "      <td>-0.033333</td>\n",
       "      <td>-0.033333</td>\n",
       "      <td>-0.033333</td>\n",
       "    </tr>\n",
       "    <tr>\n",
       "      <th>3</th>\n",
       "      <td>Приветствие</td>\n",
       "      <td>0.000000</td>\n",
       "      <td>-0.058824</td>\n",
       "      <td>-0.058824</td>\n",
       "      <td>-0.117647</td>\n",
       "      <td>-0.117647</td>\n",
       "      <td>-0.117647</td>\n",
       "      <td>-0.117647</td>\n",
       "      <td>-0.117647</td>\n",
       "      <td>-0.117647</td>\n",
       "      <td>...</td>\n",
       "      <td>-0.066667</td>\n",
       "      <td>-0.066667</td>\n",
       "      <td>-0.033333</td>\n",
       "      <td>-0.033333</td>\n",
       "      <td>-0.033333</td>\n",
       "      <td>-0.066667</td>\n",
       "      <td>-0.033333</td>\n",
       "      <td>-0.033333</td>\n",
       "      <td>-0.066667</td>\n",
       "      <td>-0.066667</td>\n",
       "    </tr>\n",
       "    <tr>\n",
       "      <th>4</th>\n",
       "      <td>Приветствие</td>\n",
       "      <td>0.000000</td>\n",
       "      <td>-0.058824</td>\n",
       "      <td>-0.117647</td>\n",
       "      <td>-0.176471</td>\n",
       "      <td>-0.176471</td>\n",
       "      <td>-0.176471</td>\n",
       "      <td>-0.176471</td>\n",
       "      <td>-0.176471</td>\n",
       "      <td>-0.117647</td>\n",
       "      <td>...</td>\n",
       "      <td>-0.066667</td>\n",
       "      <td>-0.066667</td>\n",
       "      <td>-0.066667</td>\n",
       "      <td>-0.066667</td>\n",
       "      <td>-0.066667</td>\n",
       "      <td>-0.066667</td>\n",
       "      <td>-0.066667</td>\n",
       "      <td>-0.066667</td>\n",
       "      <td>-0.066667</td>\n",
       "      <td>-0.033333</td>\n",
       "    </tr>\n",
       "  </tbody>\n",
       "</table>\n",
       "<p>5 rows × 101 columns</p>\n",
       "</div>"
      ],
      "text/plain": [
       "        target         1         2         3         4         5         6  \\\n",
       "0  Приветствие -0.058824 -0.117647 -0.176471 -0.176471 -0.176471 -0.235294   \n",
       "1  Приветствие -0.058824 -0.058824 -0.058824 -0.058824 -0.117647 -0.117647   \n",
       "2  Приветствие -0.117647 -0.058824 -0.117647 -0.117647 -0.117647 -0.117647   \n",
       "3  Приветствие  0.000000 -0.058824 -0.058824 -0.117647 -0.117647 -0.117647   \n",
       "4  Приветствие  0.000000 -0.058824 -0.117647 -0.176471 -0.176471 -0.176471   \n",
       "\n",
       "          7         8         9  ...        91        92        93        94  \\\n",
       "0 -0.176471 -0.235294 -0.176471  ... -0.133333 -0.133333 -0.100000 -0.133333   \n",
       "1 -0.117647 -0.176471 -0.176471  ... -0.033333 -0.033333 -0.033333 -0.033333   \n",
       "2 -0.117647 -0.176471 -0.176471  ... -0.066667 -0.066667 -0.066667 -0.066667   \n",
       "3 -0.117647 -0.117647 -0.117647  ... -0.066667 -0.066667 -0.033333 -0.033333   \n",
       "4 -0.176471 -0.176471 -0.117647  ... -0.066667 -0.066667 -0.066667 -0.066667   \n",
       "\n",
       "         95        96        97        98        99       100  \n",
       "0 -0.133333 -0.133333 -0.133333 -0.133333 -0.133333 -0.133333  \n",
       "1 -0.033333 -0.033333 -0.033333 -0.033333 -0.033333 -0.033333  \n",
       "2 -0.066667 -0.033333 -0.033333 -0.033333 -0.033333 -0.033333  \n",
       "3 -0.033333 -0.066667 -0.033333 -0.033333 -0.066667 -0.066667  \n",
       "4 -0.066667 -0.066667 -0.066667 -0.066667 -0.066667 -0.033333  \n",
       "\n",
       "[5 rows x 101 columns]"
      ]
     },
     "execution_count": 462,
     "metadata": {},
     "output_type": "execute_result"
    }
   ],
   "source": [
    "norm_video_features = norm_video_features_hello_1_.append(norm_video_features_raising_1_,ignore_index=True)\n",
    "norm_video_features.head()"
   ]
  },
  {
   "cell_type": "markdown",
   "metadata": {},
   "source": [
    "### Now let's try to find ML model for our case"
   ]
  },
  {
   "cell_type": "code",
   "execution_count": 439,
   "metadata": {
    "ExecuteTime": {
     "end_time": "2020-01-05T15:10:20.663608Z",
     "start_time": "2020-01-05T15:10:20.629850Z"
    }
   },
   "outputs": [],
   "source": [
    "X_train, X_test, y_train, y_test = train_test_split(\n",
    "    norm_video_features.drop(['target'], axis = 1), norm_video_features[\"target\"], test_size=0.2, random_state=120)"
   ]
  },
  {
   "cell_type": "code",
   "execution_count": 440,
   "metadata": {
    "ExecuteTime": {
     "end_time": "2020-01-05T15:10:21.130411Z",
     "start_time": "2020-01-05T15:10:20.832372Z"
    }
   },
   "outputs": [
    {
     "name": "stdout",
     "output_type": "stream",
     "text": [
      "Accuracy: 0.91 (+/- 0.21)\n",
      "[1.         1.         1.         1.         0.66666667 1.\n",
      " 1.         1.         1.         1.         1.         1.\n",
      " 1.         1.        ]\n"
     ]
    }
   ],
   "source": [
    "clf = linear_model.SGDClassifier(max_iter=1000, tol=1e-3).fit(X_train, y_train) # + 42\n",
    "print(\"Accuracy: %0.2f (+/- %0.2f)\" % \n",
    "      (cross_val_score(clf, norm_video_features.drop(['target'], axis = 1), norm_video_features[\"target\"], cv=14).mean(), \n",
    "            cross_val_score(clf, norm_video_features.drop(['target'], axis = 1), norm_video_features[\"target\"], cv=14).std() * 2))\n",
    "print(cross_val_score(clf, norm_video_features.drop(['target'], axis = 1), norm_video_features[\"target\"], cv=14))\n",
    "# clf.predict(X_test)"
   ]
  },
  {
   "cell_type": "code",
   "execution_count": 441,
   "metadata": {
    "ExecuteTime": {
     "end_time": "2020-01-05T15:10:21.419852Z",
     "start_time": "2020-01-05T15:10:21.134189Z"
    }
   },
   "outputs": [
    {
     "name": "stdout",
     "output_type": "stream",
     "text": [
      "Accuracy: 0.96 (+/- 0.21)\n",
      "[1.         1.         1.         0.75       1.         1.\n",
      " 1.         0.66666667 1.         1.         1.         1.\n",
      " 1.         1.        ]\n"
     ]
    }
   ],
   "source": [
    "clf = LinearSVC(random_state=1, tol=1e-9)\n",
    "# clf.predict(X_test)\n",
    "print(\"Accuracy: %0.2f (+/- %0.2f)\" % \n",
    "      (cross_val_score(clf, norm_video_features.drop(['target'], axis = 1), norm_video_features[\"target\"], cv=14).mean(), \n",
    "            cross_val_score(clf, norm_video_features.drop(['target'], axis = 1), norm_video_features[\"target\"], cv=14).std() * 2))\n",
    "print(cross_val_score(clf, norm_video_features.drop(['target'], axis = 1), norm_video_features[\"target\"], cv=14))"
   ]
  },
  {
   "cell_type": "code",
   "execution_count": 442,
   "metadata": {
    "ExecuteTime": {
     "end_time": "2020-01-05T15:10:21.686178Z",
     "start_time": "2020-01-05T15:10:21.425299Z"
    }
   },
   "outputs": [
    {
     "name": "stdout",
     "output_type": "stream",
     "text": [
      "Accuracy: 0.96 (+/- 0.26)\n",
      "[1.  1.  1.  0.5 1.  1.  1.  1.  1.  1.  1.  1.  1.  1. ]\n"
     ]
    }
   ],
   "source": [
    "clf = svm.SVC(gamma='scale', decision_function_shape='ovo', C = 100 , probability=True)\n",
    "# print(clf.predict(X_test))\n",
    "# print(clf.predict_proba(X_test))\n",
    "print(\"Accuracy: %0.2f (+/- %0.2f)\" % \n",
    "      (cross_val_score(clf, norm_video_features.drop(['target'], axis = 1), norm_video_features[\"target\"], cv=14).mean(), \n",
    "            cross_val_score(clf, norm_video_features.drop(['target'], axis = 1), norm_video_features[\"target\"], cv=14).std() * 2))\n",
    "print(cross_val_score(clf, norm_video_features.drop(['target'], axis = 1), norm_video_features[\"target\"], cv=14))"
   ]
  },
  {
   "cell_type": "code",
   "execution_count": 443,
   "metadata": {
    "ExecuteTime": {
     "end_time": "2020-01-05T15:10:21.976817Z",
     "start_time": "2020-01-05T15:10:21.689376Z"
    }
   },
   "outputs": [
    {
     "name": "stdout",
     "output_type": "stream",
     "text": [
      "Accuracy: 0.89 (+/- 0.35)\n",
      "[1.         1.         1.         0.5        1.         0.66666667\n",
      " 1.         0.66666667 1.         0.66666667 1.         1.\n",
      " 1.         1.        ]\n"
     ]
    }
   ],
   "source": [
    "clf = KNeighborsClassifier(n_neighbors=4).fit(X_train, y_train)\n",
    "print(\"Accuracy: %0.2f (+/- %0.2f)\" % \n",
    "      (cross_val_score(clf, norm_video_features.drop(['target'], axis = 1), norm_video_features[\"target\"], cv=14).mean(), \n",
    "            cross_val_score(clf, norm_video_features.drop(['target'], axis = 1), norm_video_features[\"target\"], cv=14).std() * 2))\n",
    "print(cross_val_score(clf, norm_video_features.drop(['target'], axis = 1), norm_video_features[\"target\"], cv=14))\n",
    "# clf.predict(X_test)"
   ]
  },
  {
   "cell_type": "code",
   "execution_count": 444,
   "metadata": {
    "ExecuteTime": {
     "end_time": "2020-01-05T15:10:24.173195Z",
     "start_time": "2020-01-05T15:10:21.980779Z"
    }
   },
   "outputs": [
    {
     "name": "stdout",
     "output_type": "stream",
     "text": [
      "Accuracy: 0.89 (+/- 0.35)\n",
      "[1.         1.         1.         0.5        0.66666667 1.\n",
      " 1.         0.66666667 1.         0.66666667 1.         1.\n",
      " 1.         1.        ]\n"
     ]
    }
   ],
   "source": [
    "clf = XGBClassifier().fit(X_train, y_train)\n",
    "print(\"Accuracy: %0.2f (+/- %0.2f)\" % \n",
    "      (cross_val_score(clf, norm_video_features.drop(['target'], axis = 1), norm_video_features[\"target\"], cv=14).mean(), \n",
    "            cross_val_score(clf, norm_video_features.drop(['target'], axis = 1), norm_video_features[\"target\"], cv=14).std() * 2))\n",
    "print(cross_val_score(clf, norm_video_features.drop(['target'], axis = 1), norm_video_features[\"target\"], cv=14))\n",
    "# print(clf.predict(X_test))\n",
    "# model.predict_proba(X_test)"
   ]
  },
  {
   "cell_type": "code",
   "execution_count": 445,
   "metadata": {
    "ExecuteTime": {
     "end_time": "2020-01-05T15:11:28.973772Z",
     "start_time": "2020-01-05T15:10:24.176145Z"
    }
   },
   "outputs": [
    {
     "name": "stdout",
     "output_type": "stream",
     "text": [
      "Accuracy: 0.93 (+/- 0.33)\n",
      "[1.         1.         1.         0.75       1.         1.\n",
      " 0.66666667 0.66666667 1.         1.         1.         1.\n",
      " 1.         1.        ]\n"
     ]
    }
   ],
   "source": [
    "clf = AdaBoostClassifier(n_estimators=100).fit(X_train, y_train)\n",
    "print(\"Accuracy: %0.2f (+/- %0.2f)\" % \n",
    "      (cross_val_score(clf, norm_video_features.drop(['target'], axis = 1), norm_video_features[\"target\"], cv=14).mean(), \n",
    "            cross_val_score(clf, norm_video_features.drop(['target'], axis = 1), norm_video_features[\"target\"], cv=14).std() * 2))\n",
    "print(cross_val_score(clf, norm_video_features.drop(['target'], axis = 1), norm_video_features[\"target\"], cv=14))\n",
    "# print(clf.predict(X_test))\n",
    "# clf.predict_proba(X_test)"
   ]
  },
  {
   "cell_type": "code",
   "execution_count": 446,
   "metadata": {
    "ExecuteTime": {
     "end_time": "2020-01-05T15:11:30.637439Z",
     "start_time": "2020-01-05T15:11:28.977875Z"
    }
   },
   "outputs": [
    {
     "name": "stdout",
     "output_type": "stream",
     "text": [
      "0:\tlearn: 0.5014795\ttotal: 11.2ms\tremaining: 101ms\n",
      "1:\tlearn: 0.3340812\ttotal: 13.4ms\tremaining: 53.5ms\n",
      "2:\tlearn: 0.2171500\ttotal: 14.5ms\tremaining: 33.9ms\n",
      "3:\tlearn: 0.1743647\ttotal: 15.7ms\tremaining: 23.6ms\n",
      "4:\tlearn: 0.1553975\ttotal: 16.8ms\tremaining: 16.8ms\n",
      "5:\tlearn: 0.1316485\ttotal: 17.7ms\tremaining: 11.8ms\n",
      "6:\tlearn: 0.0897754\ttotal: 19.6ms\tremaining: 8.39ms\n",
      "7:\tlearn: 0.0803496\ttotal: 21.1ms\tremaining: 5.26ms\n",
      "8:\tlearn: 0.0665219\ttotal: 22ms\tremaining: 2.44ms\n",
      "9:\tlearn: 0.0491730\ttotal: 22.8ms\tremaining: 0us\n",
      "0:\tlearn: 0.5443912\ttotal: 1.03ms\tremaining: 9.27ms\n",
      "1:\tlearn: 0.3674610\ttotal: 1.99ms\tremaining: 7.97ms\n",
      "2:\tlearn: 0.2542495\ttotal: 2.88ms\tremaining: 6.71ms\n",
      "3:\tlearn: 0.2151298\ttotal: 3.7ms\tremaining: 5.55ms\n",
      "4:\tlearn: 0.1615053\ttotal: 4.65ms\tremaining: 4.65ms\n",
      "5:\tlearn: 0.1514955\ttotal: 5.63ms\tremaining: 3.75ms\n",
      "6:\tlearn: 0.1166584\ttotal: 6.47ms\tremaining: 2.77ms\n",
      "7:\tlearn: 0.0969553\ttotal: 8.21ms\tremaining: 2.05ms\n",
      "8:\tlearn: 0.0825379\ttotal: 9.45ms\tremaining: 1.05ms\n",
      "9:\tlearn: 0.0590540\ttotal: 10.6ms\tremaining: 0us\n",
      "0:\tlearn: 0.4889416\ttotal: 1.54ms\tremaining: 13.9ms\n",
      "1:\tlearn: 0.3800659\ttotal: 3.26ms\tremaining: 13.1ms\n",
      "2:\tlearn: 0.2261178\ttotal: 5.15ms\tremaining: 12ms\n",
      "3:\tlearn: 0.2020509\ttotal: 7.44ms\tremaining: 11.2ms\n",
      "4:\tlearn: 0.1379280\ttotal: 8.86ms\tremaining: 8.86ms\n",
      "5:\tlearn: 0.1176802\ttotal: 9.99ms\tremaining: 6.66ms\n",
      "6:\tlearn: 0.0934471\ttotal: 11.1ms\tremaining: 4.74ms\n",
      "7:\tlearn: 0.0622705\ttotal: 12.1ms\tremaining: 3.02ms\n",
      "8:\tlearn: 0.0585055\ttotal: 13.2ms\tremaining: 1.46ms\n",
      "9:\tlearn: 0.0527008\ttotal: 14.3ms\tremaining: 0us\n",
      "0:\tlearn: 0.3308793\ttotal: 788us\tremaining: 7.09ms\n",
      "1:\tlearn: 0.2825524\ttotal: 1.83ms\tremaining: 7.33ms\n",
      "2:\tlearn: 0.1994472\ttotal: 2.84ms\tremaining: 6.62ms\n",
      "3:\tlearn: 0.1620790\ttotal: 4.31ms\tremaining: 6.46ms\n",
      "4:\tlearn: 0.1067867\ttotal: 5.14ms\tremaining: 5.14ms\n",
      "5:\tlearn: 0.0792597\ttotal: 6.03ms\tremaining: 4.02ms\n",
      "6:\tlearn: 0.0543519\ttotal: 6.83ms\tremaining: 2.92ms\n",
      "7:\tlearn: 0.0462342\ttotal: 7.61ms\tremaining: 1.9ms\n",
      "8:\tlearn: 0.0387775\ttotal: 8.45ms\tremaining: 939us\n",
      "9:\tlearn: 0.0321850\ttotal: 9.42ms\tremaining: 0us\n",
      "0:\tlearn: 0.4711680\ttotal: 850us\tremaining: 7.65ms\n",
      "1:\tlearn: 0.3071559\ttotal: 1.75ms\tremaining: 6.99ms\n",
      "2:\tlearn: 0.1995491\ttotal: 2.64ms\tremaining: 6.17ms\n",
      "3:\tlearn: 0.1875527\ttotal: 4.12ms\tremaining: 6.18ms\n",
      "4:\tlearn: 0.1456074\ttotal: 4.97ms\tremaining: 4.97ms\n",
      "5:\tlearn: 0.1132489\ttotal: 5.81ms\tremaining: 3.87ms\n",
      "6:\tlearn: 0.0781140\ttotal: 6.69ms\tremaining: 2.87ms\n",
      "7:\tlearn: 0.0569794\ttotal: 7.48ms\tremaining: 1.87ms\n",
      "8:\tlearn: 0.0431619\ttotal: 8.36ms\tremaining: 928us\n",
      "9:\tlearn: 0.0348670\ttotal: 9.31ms\tremaining: 0us\n",
      "0:\tlearn: 0.4406436\ttotal: 828us\tremaining: 7.46ms\n",
      "1:\tlearn: 0.2526249\ttotal: 1.89ms\tremaining: 7.56ms\n",
      "2:\tlearn: 0.1801587\ttotal: 2.87ms\tremaining: 6.69ms\n",
      "3:\tlearn: 0.1314215\ttotal: 4.1ms\tremaining: 6.15ms\n",
      "4:\tlearn: 0.1003995\ttotal: 5.24ms\tremaining: 5.24ms\n",
      "5:\tlearn: 0.0911342\ttotal: 6.84ms\tremaining: 4.56ms\n",
      "6:\tlearn: 0.0710263\ttotal: 8.03ms\tremaining: 3.44ms\n",
      "7:\tlearn: 0.0535158\ttotal: 9.17ms\tremaining: 2.29ms\n",
      "8:\tlearn: 0.0410641\ttotal: 10ms\tremaining: 1.11ms\n",
      "9:\tlearn: 0.0336307\ttotal: 10.8ms\tremaining: 0us\n",
      "0:\tlearn: 0.4865212\ttotal: 1.65ms\tremaining: 14.9ms\n",
      "1:\tlearn: 0.2832762\ttotal: 2.55ms\tremaining: 10.2ms\n",
      "2:\tlearn: 0.2007625\ttotal: 3.42ms\tremaining: 7.98ms\n",
      "3:\tlearn: 0.1885437\ttotal: 4.21ms\tremaining: 6.32ms\n",
      "4:\tlearn: 0.1586864\ttotal: 5.08ms\tremaining: 5.08ms\n",
      "5:\tlearn: 0.1113729\ttotal: 5.86ms\tremaining: 3.91ms\n",
      "6:\tlearn: 0.0752033\ttotal: 6.99ms\tremaining: 3ms\n",
      "7:\tlearn: 0.0511862\ttotal: 7.88ms\tremaining: 1.97ms\n",
      "8:\tlearn: 0.0448846\ttotal: 8.76ms\tremaining: 973us\n",
      "9:\tlearn: 0.0340740\ttotal: 9.57ms\tremaining: 0us\n",
      "0:\tlearn: 0.4893202\ttotal: 1.57ms\tremaining: 14.1ms\n",
      "1:\tlearn: 0.2851097\ttotal: 3.9ms\tremaining: 15.6ms\n",
      "2:\tlearn: 0.1986031\ttotal: 4.75ms\tremaining: 11.1ms\n",
      "3:\tlearn: 0.1579626\ttotal: 5.56ms\tremaining: 8.34ms\n",
      "4:\tlearn: 0.1070171\ttotal: 6.42ms\tremaining: 6.42ms\n",
      "5:\tlearn: 0.0828608\ttotal: 7.31ms\tremaining: 4.88ms\n",
      "6:\tlearn: 0.0605118\ttotal: 8.32ms\tremaining: 3.57ms\n",
      "7:\tlearn: 0.0463471\ttotal: 9.57ms\tremaining: 2.39ms\n",
      "8:\tlearn: 0.0385531\ttotal: 11.3ms\tremaining: 1.26ms\n",
      "9:\tlearn: 0.0339952\ttotal: 13.2ms\tremaining: 0us\n",
      "0:\tlearn: 0.4506219\ttotal: 763us\tremaining: 6.87ms\n",
      "1:\tlearn: 0.2501989\ttotal: 1.49ms\tremaining: 5.96ms\n",
      "2:\tlearn: 0.1814505\ttotal: 2.38ms\tremaining: 5.55ms\n",
      "3:\tlearn: 0.1515258\ttotal: 3.18ms\tremaining: 4.78ms\n",
      "4:\tlearn: 0.1139687\ttotal: 3.98ms\tremaining: 3.98ms\n",
      "5:\tlearn: 0.0965810\ttotal: 4.76ms\tremaining: 3.17ms\n",
      "6:\tlearn: 0.0654067\ttotal: 5.58ms\tremaining: 2.39ms\n",
      "7:\tlearn: 0.0495951\ttotal: 6.39ms\tremaining: 1.6ms\n",
      "8:\tlearn: 0.0422209\ttotal: 7.2ms\tremaining: 800us\n",
      "9:\tlearn: 0.0365723\ttotal: 8.01ms\tremaining: 0us\n",
      "0:\tlearn: 0.3875840\ttotal: 731us\tremaining: 6.58ms\n",
      "1:\tlearn: 0.2303864\ttotal: 1.55ms\tremaining: 6.19ms\n",
      "2:\tlearn: 0.1691702\ttotal: 2.55ms\tremaining: 5.95ms\n",
      "3:\tlearn: 0.1384934\ttotal: 3.29ms\tremaining: 4.93ms\n",
      "4:\tlearn: 0.1086599\ttotal: 4.04ms\tremaining: 4.04ms\n",
      "5:\tlearn: 0.0955900\ttotal: 4.79ms\tremaining: 3.19ms\n",
      "6:\tlearn: 0.0642318\ttotal: 5.57ms\tremaining: 2.39ms\n",
      "7:\tlearn: 0.0475182\ttotal: 6.32ms\tremaining: 1.58ms\n",
      "8:\tlearn: 0.0376284\ttotal: 7.07ms\tremaining: 785us\n",
      "9:\tlearn: 0.0323946\ttotal: 7.82ms\tremaining: 0us\n",
      "0:\tlearn: 0.4893202\ttotal: 816us\tremaining: 7.35ms\n",
      "1:\tlearn: 0.4339621\ttotal: 1.68ms\tremaining: 6.71ms\n",
      "2:\tlearn: 0.2776843\ttotal: 2.49ms\tremaining: 5.81ms\n",
      "3:\tlearn: 0.2291488\ttotal: 3.24ms\tremaining: 4.87ms\n",
      "4:\tlearn: 0.1627226\ttotal: 3.92ms\tremaining: 3.92ms\n",
      "5:\tlearn: 0.1294458\ttotal: 4.67ms\tremaining: 3.12ms\n",
      "6:\tlearn: 0.1042712\ttotal: 5.47ms\tremaining: 2.34ms\n",
      "7:\tlearn: 0.0864562\ttotal: 6.23ms\tremaining: 1.56ms\n",
      "8:\tlearn: 0.0569072\ttotal: 7.16ms\tremaining: 795us\n",
      "9:\tlearn: 0.0494430\ttotal: 7.96ms\tremaining: 0us\n",
      "0:\tlearn: 0.5496673\ttotal: 744us\tremaining: 6.7ms\n",
      "1:\tlearn: 0.4922793\ttotal: 1.69ms\tremaining: 6.78ms\n",
      "2:\tlearn: 0.2963707\ttotal: 3.29ms\tremaining: 7.68ms\n",
      "3:\tlearn: 0.2422485\ttotal: 4.97ms\tremaining: 7.45ms\n",
      "4:\tlearn: 0.1587221\ttotal: 6.5ms\tremaining: 6.5ms\n",
      "5:\tlearn: 0.1254322\ttotal: 7.81ms\tremaining: 5.21ms\n",
      "6:\tlearn: 0.1074590\ttotal: 9.33ms\tremaining: 4ms\n",
      "7:\tlearn: 0.0919213\ttotal: 10.4ms\tremaining: 2.61ms\n",
      "8:\tlearn: 0.0753155\ttotal: 11.7ms\tremaining: 1.3ms\n",
      "9:\tlearn: 0.0664869\ttotal: 12.7ms\tremaining: 0us\n",
      "0:\tlearn: 0.5558842\ttotal: 771us\tremaining: 6.94ms\n",
      "1:\tlearn: 0.4380144\ttotal: 1.75ms\tremaining: 6.99ms\n",
      "2:\tlearn: 0.2721814\ttotal: 2.55ms\tremaining: 5.96ms\n",
      "3:\tlearn: 0.2388840\ttotal: 3.36ms\tremaining: 5.04ms\n",
      "4:\tlearn: 0.1773068\ttotal: 4.18ms\tremaining: 4.18ms\n",
      "5:\tlearn: 0.1628796\ttotal: 4.98ms\tremaining: 3.32ms\n",
      "6:\tlearn: 0.1062734\ttotal: 5.82ms\tremaining: 2.49ms\n",
      "7:\tlearn: 0.0785712\ttotal: 6.77ms\tremaining: 1.69ms\n",
      "8:\tlearn: 0.0621940\ttotal: 7.55ms\tremaining: 839us\n",
      "9:\tlearn: 0.0543322\ttotal: 8.3ms\tremaining: 0us\n",
      "0:\tlearn: 0.5516605\ttotal: 919us\tremaining: 8.27ms\n",
      "1:\tlearn: 0.4394568\ttotal: 1.95ms\tremaining: 7.82ms\n",
      "2:\tlearn: 0.2725104\ttotal: 2.98ms\tremaining: 6.95ms\n",
      "3:\tlearn: 0.2419653\ttotal: 4.09ms\tremaining: 6.14ms\n",
      "4:\tlearn: 0.1789829\ttotal: 5.12ms\tremaining: 5.12ms\n",
      "5:\tlearn: 0.1543976\ttotal: 6.35ms\tremaining: 4.23ms\n",
      "6:\tlearn: 0.1261748\ttotal: 7.39ms\tremaining: 3.17ms\n",
      "7:\tlearn: 0.1055217\ttotal: 8.29ms\tremaining: 2.07ms\n",
      "8:\tlearn: 0.0697893\ttotal: 9.15ms\tremaining: 1.02ms\n",
      "9:\tlearn: 0.0601231\ttotal: 9.94ms\tremaining: 0us\n",
      "0:\tlearn: 0.5014795\ttotal: 784us\tremaining: 7.06ms\n",
      "1:\tlearn: 0.3340812\ttotal: 1.71ms\tremaining: 6.86ms\n",
      "2:\tlearn: 0.2171500\ttotal: 3.01ms\tremaining: 7.01ms\n",
      "3:\tlearn: 0.1743647\ttotal: 4.07ms\tremaining: 6.1ms\n",
      "4:\tlearn: 0.1553975\ttotal: 4.95ms\tremaining: 4.95ms\n",
      "5:\tlearn: 0.1316485\ttotal: 5.77ms\tremaining: 3.85ms\n",
      "6:\tlearn: 0.0897754\ttotal: 6.57ms\tremaining: 2.81ms\n",
      "7:\tlearn: 0.0803496\ttotal: 7.34ms\tremaining: 1.84ms\n",
      "8:\tlearn: 0.0665219\ttotal: 8.03ms\tremaining: 892us\n",
      "9:\tlearn: 0.0491730\ttotal: 8.82ms\tremaining: 0us\n",
      "0:\tlearn: 0.5443912\ttotal: 696us\tremaining: 6.26ms\n",
      "1:\tlearn: 0.3674610\ttotal: 1.48ms\tremaining: 5.93ms\n",
      "2:\tlearn: 0.2542495\ttotal: 2.28ms\tremaining: 5.32ms\n",
      "3:\tlearn: 0.2151298\ttotal: 3.03ms\tremaining: 4.54ms\n",
      "4:\tlearn: 0.1615053\ttotal: 3.78ms\tremaining: 3.78ms\n",
      "5:\tlearn: 0.1514955\ttotal: 4.67ms\tremaining: 3.11ms\n",
      "6:\tlearn: 0.1166584\ttotal: 5.56ms\tremaining: 2.38ms\n",
      "7:\tlearn: 0.0969553\ttotal: 6.34ms\tremaining: 1.58ms\n",
      "8:\tlearn: 0.0825379\ttotal: 7.18ms\tremaining: 798us\n",
      "9:\tlearn: 0.0590540\ttotal: 8.08ms\tremaining: 0us\n",
      "0:\tlearn: 0.4889416\ttotal: 722us\tremaining: 6.5ms\n",
      "1:\tlearn: 0.3800659\ttotal: 1.56ms\tremaining: 6.25ms\n",
      "2:\tlearn: 0.2261178\ttotal: 2.3ms\tremaining: 5.37ms\n",
      "3:\tlearn: 0.2020509\ttotal: 3.03ms\tremaining: 4.54ms\n",
      "4:\tlearn: 0.1379280\ttotal: 3.83ms\tremaining: 3.83ms\n",
      "5:\tlearn: 0.1176802\ttotal: 4.57ms\tremaining: 3.04ms\n",
      "6:\tlearn: 0.0934471\ttotal: 5.32ms\tremaining: 2.28ms\n",
      "7:\tlearn: 0.0622705\ttotal: 6.08ms\tremaining: 1.52ms\n",
      "8:\tlearn: 0.0585055\ttotal: 6.88ms\tremaining: 764us\n",
      "9:\tlearn: 0.0527008\ttotal: 7.62ms\tremaining: 0us\n"
     ]
    },
    {
     "name": "stdout",
     "output_type": "stream",
     "text": [
      "0:\tlearn: 0.3308793\ttotal: 1.89ms\tremaining: 17ms\n",
      "1:\tlearn: 0.2825524\ttotal: 3.88ms\tremaining: 15.5ms\n",
      "2:\tlearn: 0.1994472\ttotal: 5.38ms\tremaining: 12.5ms\n",
      "3:\tlearn: 0.1620790\ttotal: 7.65ms\tremaining: 11.5ms\n",
      "4:\tlearn: 0.1067867\ttotal: 8.97ms\tremaining: 8.97ms\n",
      "5:\tlearn: 0.0792597\ttotal: 9.97ms\tremaining: 6.65ms\n",
      "6:\tlearn: 0.0543519\ttotal: 10.7ms\tremaining: 4.6ms\n",
      "7:\tlearn: 0.0462342\ttotal: 11.7ms\tremaining: 2.93ms\n",
      "8:\tlearn: 0.0387775\ttotal: 12.8ms\tremaining: 1.42ms\n",
      "9:\tlearn: 0.0321850\ttotal: 13.8ms\tremaining: 0us\n",
      "0:\tlearn: 0.4711680\ttotal: 753us\tremaining: 6.78ms\n",
      "1:\tlearn: 0.3071559\ttotal: 1.65ms\tremaining: 6.59ms\n",
      "2:\tlearn: 0.1995491\ttotal: 2.45ms\tremaining: 5.72ms\n",
      "3:\tlearn: 0.1875527\ttotal: 3.27ms\tremaining: 4.9ms\n",
      "4:\tlearn: 0.1456074\ttotal: 4.12ms\tremaining: 4.12ms\n",
      "5:\tlearn: 0.1132489\ttotal: 4.93ms\tremaining: 3.29ms\n",
      "6:\tlearn: 0.0781140\ttotal: 5.71ms\tremaining: 2.45ms\n",
      "7:\tlearn: 0.0569794\ttotal: 6.62ms\tremaining: 1.66ms\n",
      "8:\tlearn: 0.0431619\ttotal: 7.56ms\tremaining: 840us\n",
      "9:\tlearn: 0.0348670\ttotal: 8.28ms\tremaining: 0us\n",
      "0:\tlearn: 0.4406436\ttotal: 2.17ms\tremaining: 19.6ms\n",
      "1:\tlearn: 0.2526249\ttotal: 3.94ms\tremaining: 15.8ms\n",
      "2:\tlearn: 0.1801587\ttotal: 5.46ms\tremaining: 12.7ms\n",
      "3:\tlearn: 0.1314215\ttotal: 7.16ms\tremaining: 10.7ms\n",
      "4:\tlearn: 0.1003995\ttotal: 8.71ms\tremaining: 8.71ms\n",
      "5:\tlearn: 0.0911342\ttotal: 10.7ms\tremaining: 7.13ms\n",
      "6:\tlearn: 0.0710263\ttotal: 11.5ms\tremaining: 4.94ms\n",
      "7:\tlearn: 0.0535158\ttotal: 12.6ms\tremaining: 3.14ms\n",
      "8:\tlearn: 0.0410641\ttotal: 13.6ms\tremaining: 1.51ms\n",
      "9:\tlearn: 0.0336307\ttotal: 14.5ms\tremaining: 0us\n",
      "0:\tlearn: 0.4865212\ttotal: 785us\tremaining: 7.07ms\n",
      "1:\tlearn: 0.2832762\ttotal: 1.7ms\tremaining: 6.79ms\n",
      "2:\tlearn: 0.2007625\ttotal: 2.55ms\tremaining: 5.95ms\n",
      "3:\tlearn: 0.1885437\ttotal: 3.35ms\tremaining: 5.03ms\n",
      "4:\tlearn: 0.1586864\ttotal: 4.18ms\tremaining: 4.18ms\n",
      "5:\tlearn: 0.1113729\ttotal: 5ms\tremaining: 3.34ms\n",
      "6:\tlearn: 0.0752033\ttotal: 5.88ms\tremaining: 2.52ms\n",
      "7:\tlearn: 0.0511862\ttotal: 6.68ms\tremaining: 1.67ms\n",
      "8:\tlearn: 0.0448846\ttotal: 7.53ms\tremaining: 836us\n",
      "9:\tlearn: 0.0340740\ttotal: 8.27ms\tremaining: 0us\n",
      "0:\tlearn: 0.4893202\ttotal: 719us\tremaining: 6.47ms\n",
      "1:\tlearn: 0.2851097\ttotal: 1.56ms\tremaining: 6.26ms\n",
      "2:\tlearn: 0.1986031\ttotal: 2.32ms\tremaining: 5.41ms\n",
      "3:\tlearn: 0.1579626\ttotal: 3.05ms\tremaining: 4.58ms\n",
      "4:\tlearn: 0.1070171\ttotal: 3.91ms\tremaining: 3.91ms\n",
      "5:\tlearn: 0.0828608\ttotal: 4.64ms\tremaining: 3.09ms\n",
      "6:\tlearn: 0.0605118\ttotal: 5.39ms\tremaining: 2.31ms\n",
      "7:\tlearn: 0.0463471\ttotal: 6.15ms\tremaining: 1.54ms\n",
      "8:\tlearn: 0.0385531\ttotal: 6.95ms\tremaining: 771us\n",
      "9:\tlearn: 0.0339952\ttotal: 7.67ms\tremaining: 0us\n",
      "0:\tlearn: 0.4506219\ttotal: 788us\tremaining: 7.1ms\n",
      "1:\tlearn: 0.2501989\ttotal: 1.57ms\tremaining: 6.28ms\n",
      "2:\tlearn: 0.1814505\ttotal: 2.31ms\tremaining: 5.4ms\n",
      "3:\tlearn: 0.1515258\ttotal: 3.05ms\tremaining: 4.57ms\n",
      "4:\tlearn: 0.1139687\ttotal: 3.79ms\tremaining: 3.79ms\n",
      "5:\tlearn: 0.0965810\ttotal: 4.66ms\tremaining: 3.11ms\n",
      "6:\tlearn: 0.0654067\ttotal: 5.4ms\tremaining: 2.31ms\n",
      "7:\tlearn: 0.0495951\ttotal: 6.16ms\tremaining: 1.54ms\n",
      "8:\tlearn: 0.0422209\ttotal: 6.96ms\tremaining: 772us\n",
      "9:\tlearn: 0.0365723\ttotal: 7.8ms\tremaining: 0us\n",
      "0:\tlearn: 0.3875840\ttotal: 970us\tremaining: 8.73ms\n",
      "1:\tlearn: 0.2303864\ttotal: 1.99ms\tremaining: 7.97ms\n",
      "2:\tlearn: 0.1691702\ttotal: 2.78ms\tremaining: 6.49ms\n",
      "3:\tlearn: 0.1384934\ttotal: 3.57ms\tremaining: 5.36ms\n",
      "4:\tlearn: 0.1086599\ttotal: 4.43ms\tremaining: 4.43ms\n",
      "5:\tlearn: 0.0955900\ttotal: 5.21ms\tremaining: 3.47ms\n",
      "6:\tlearn: 0.0642318\ttotal: 5.97ms\tremaining: 2.56ms\n",
      "7:\tlearn: 0.0475182\ttotal: 6.73ms\tremaining: 1.68ms\n",
      "8:\tlearn: 0.0376284\ttotal: 7.49ms\tremaining: 831us\n",
      "9:\tlearn: 0.0323946\ttotal: 8.31ms\tremaining: 0us\n",
      "0:\tlearn: 0.4893202\ttotal: 769us\tremaining: 6.93ms\n",
      "1:\tlearn: 0.4339621\ttotal: 1.5ms\tremaining: 5.99ms\n",
      "2:\tlearn: 0.2776843\ttotal: 2.2ms\tremaining: 5.14ms\n",
      "3:\tlearn: 0.2291488\ttotal: 3.04ms\tremaining: 4.57ms\n",
      "4:\tlearn: 0.1627226\ttotal: 3.89ms\tremaining: 3.89ms\n",
      "5:\tlearn: 0.1294458\ttotal: 4.68ms\tremaining: 3.12ms\n",
      "6:\tlearn: 0.1042712\ttotal: 5.48ms\tremaining: 2.35ms\n",
      "7:\tlearn: 0.0864562\ttotal: 6.48ms\tremaining: 1.62ms\n",
      "8:\tlearn: 0.0569072\ttotal: 7.5ms\tremaining: 833us\n",
      "9:\tlearn: 0.0494430\ttotal: 8.37ms\tremaining: 0us\n",
      "0:\tlearn: 0.5496673\ttotal: 1.62ms\tremaining: 14.5ms\n",
      "1:\tlearn: 0.4922793\ttotal: 2.8ms\tremaining: 11.2ms\n",
      "2:\tlearn: 0.2963707\ttotal: 3.6ms\tremaining: 8.39ms\n",
      "3:\tlearn: 0.2422485\ttotal: 4.39ms\tremaining: 6.58ms\n",
      "4:\tlearn: 0.1587221\ttotal: 5.24ms\tremaining: 5.24ms\n",
      "5:\tlearn: 0.1254322\ttotal: 6.97ms\tremaining: 4.65ms\n",
      "6:\tlearn: 0.1074590\ttotal: 8.77ms\tremaining: 3.76ms\n",
      "7:\tlearn: 0.0919213\ttotal: 12.9ms\tremaining: 3.23ms\n",
      "8:\tlearn: 0.0753155\ttotal: 14.5ms\tremaining: 1.61ms\n",
      "9:\tlearn: 0.0664869\ttotal: 15.4ms\tremaining: 0us\n",
      "0:\tlearn: 0.5558842\ttotal: 737us\tremaining: 6.64ms\n",
      "1:\tlearn: 0.4380144\ttotal: 1.63ms\tremaining: 6.5ms\n",
      "2:\tlearn: 0.2721814\ttotal: 2.45ms\tremaining: 5.72ms\n",
      "3:\tlearn: 0.2388840\ttotal: 3.23ms\tremaining: 4.85ms\n",
      "4:\tlearn: 0.1773068\ttotal: 4.04ms\tremaining: 4.04ms\n",
      "5:\tlearn: 0.1628796\ttotal: 4.86ms\tremaining: 3.24ms\n",
      "6:\tlearn: 0.1062734\ttotal: 5.92ms\tremaining: 2.54ms\n",
      "7:\tlearn: 0.0785712\ttotal: 6.79ms\tremaining: 1.7ms\n",
      "8:\tlearn: 0.0621940\ttotal: 7.79ms\tremaining: 865us\n",
      "9:\tlearn: 0.0543322\ttotal: 8.58ms\tremaining: 0us\n",
      "0:\tlearn: 0.5516605\ttotal: 732us\tremaining: 6.59ms\n",
      "1:\tlearn: 0.4394568\ttotal: 1.58ms\tremaining: 6.33ms\n",
      "2:\tlearn: 0.2725104\ttotal: 2.44ms\tremaining: 5.7ms\n",
      "3:\tlearn: 0.2419653\ttotal: 3.22ms\tremaining: 4.83ms\n",
      "4:\tlearn: 0.1789829\ttotal: 4.03ms\tremaining: 4.03ms\n",
      "5:\tlearn: 0.1543976\ttotal: 4.79ms\tremaining: 3.19ms\n",
      "6:\tlearn: 0.1261748\ttotal: 5.57ms\tremaining: 2.38ms\n",
      "7:\tlearn: 0.1055217\ttotal: 6.33ms\tremaining: 1.58ms\n",
      "8:\tlearn: 0.0697893\ttotal: 7.12ms\tremaining: 791us\n",
      "9:\tlearn: 0.0601231\ttotal: 7.87ms\tremaining: 0us\n",
      "Accuracy: 0.93 (+/- 0.30)\n",
      "0:\tlearn: 0.5014795\ttotal: 771us\tremaining: 6.94ms\n",
      "1:\tlearn: 0.3340812\ttotal: 1.62ms\tremaining: 6.46ms\n",
      "2:\tlearn: 0.2171500\ttotal: 2.44ms\tremaining: 5.68ms\n",
      "3:\tlearn: 0.1743647\ttotal: 3.25ms\tremaining: 4.88ms\n",
      "4:\tlearn: 0.1553975\ttotal: 4.08ms\tremaining: 4.08ms\n",
      "5:\tlearn: 0.1316485\ttotal: 4.84ms\tremaining: 3.23ms\n",
      "6:\tlearn: 0.0897754\ttotal: 5.6ms\tremaining: 2.4ms\n",
      "7:\tlearn: 0.0803496\ttotal: 6.37ms\tremaining: 1.59ms\n",
      "8:\tlearn: 0.0665219\ttotal: 7.09ms\tremaining: 788us\n",
      "9:\tlearn: 0.0491730\ttotal: 7.83ms\tremaining: 0us\n",
      "0:\tlearn: 0.5443912\ttotal: 1.65ms\tremaining: 14.9ms\n",
      "1:\tlearn: 0.3674610\ttotal: 2.84ms\tremaining: 11.4ms\n",
      "2:\tlearn: 0.2542495\ttotal: 3.65ms\tremaining: 8.53ms\n",
      "3:\tlearn: 0.2151298\ttotal: 4.61ms\tremaining: 6.91ms\n",
      "4:\tlearn: 0.1615053\ttotal: 5.44ms\tremaining: 5.44ms\n",
      "5:\tlearn: 0.1514955\ttotal: 6.21ms\tremaining: 4.14ms\n",
      "6:\tlearn: 0.1166584\ttotal: 6.98ms\tremaining: 2.99ms\n",
      "7:\tlearn: 0.0969553\ttotal: 7.76ms\tremaining: 1.94ms\n",
      "8:\tlearn: 0.0825379\ttotal: 9.29ms\tremaining: 1.03ms\n",
      "9:\tlearn: 0.0590540\ttotal: 11.1ms\tremaining: 0us\n",
      "0:\tlearn: 0.4889416\ttotal: 718us\tremaining: 6.47ms\n",
      "1:\tlearn: 0.3800659\ttotal: 1.63ms\tremaining: 6.5ms\n",
      "2:\tlearn: 0.2261178\ttotal: 2.41ms\tremaining: 5.63ms\n",
      "3:\tlearn: 0.2020509\ttotal: 3.19ms\tremaining: 4.79ms\n",
      "4:\tlearn: 0.1379280\ttotal: 4.05ms\tremaining: 4.05ms\n",
      "5:\tlearn: 0.1176802\ttotal: 4.93ms\tremaining: 3.28ms\n",
      "6:\tlearn: 0.0934471\ttotal: 5.7ms\tremaining: 2.44ms\n",
      "7:\tlearn: 0.0622705\ttotal: 6.48ms\tremaining: 1.62ms\n",
      "8:\tlearn: 0.0585055\ttotal: 7.28ms\tremaining: 809us\n",
      "9:\tlearn: 0.0527008\ttotal: 8.05ms\tremaining: 0us\n",
      "0:\tlearn: 0.3308793\ttotal: 745us\tremaining: 6.71ms\n",
      "1:\tlearn: 0.2825524\ttotal: 1.75ms\tremaining: 7ms\n",
      "2:\tlearn: 0.1994472\ttotal: 2.56ms\tremaining: 5.98ms\n",
      "3:\tlearn: 0.1620790\ttotal: 3.63ms\tremaining: 5.45ms\n",
      "4:\tlearn: 0.1067867\ttotal: 4.58ms\tremaining: 4.58ms\n",
      "5:\tlearn: 0.0792597\ttotal: 5.38ms\tremaining: 3.58ms\n",
      "6:\tlearn: 0.0543519\ttotal: 6.19ms\tremaining: 2.65ms\n",
      "7:\tlearn: 0.0462342\ttotal: 7.03ms\tremaining: 1.76ms\n",
      "8:\tlearn: 0.0387775\ttotal: 7.83ms\tremaining: 870us\n",
      "9:\tlearn: 0.0321850\ttotal: 8.68ms\tremaining: 0us\n",
      "0:\tlearn: 0.4711680\ttotal: 775us\tremaining: 6.98ms\n",
      "1:\tlearn: 0.3071559\ttotal: 1.69ms\tremaining: 6.75ms\n",
      "2:\tlearn: 0.1995491\ttotal: 2.51ms\tremaining: 5.86ms\n",
      "3:\tlearn: 0.1875527\ttotal: 3.27ms\tremaining: 4.91ms\n",
      "4:\tlearn: 0.1456074\ttotal: 4.22ms\tremaining: 4.22ms\n",
      "5:\tlearn: 0.1132489\ttotal: 4.97ms\tremaining: 3.31ms\n",
      "6:\tlearn: 0.0781140\ttotal: 5.75ms\tremaining: 2.46ms\n",
      "7:\tlearn: 0.0569794\ttotal: 6.52ms\tremaining: 1.63ms\n",
      "8:\tlearn: 0.0431619\ttotal: 7.35ms\tremaining: 817us\n",
      "9:\tlearn: 0.0348670\ttotal: 8.19ms\tremaining: 0us\n",
      "0:\tlearn: 0.4406436\ttotal: 722us\tremaining: 6.5ms\n",
      "1:\tlearn: 0.2526249\ttotal: 2.24ms\tremaining: 8.96ms\n",
      "2:\tlearn: 0.1801587\ttotal: 3.01ms\tremaining: 7.02ms\n",
      "3:\tlearn: 0.1314215\ttotal: 3.76ms\tremaining: 5.64ms\n",
      "4:\tlearn: 0.1003995\ttotal: 4.55ms\tremaining: 4.55ms\n",
      "5:\tlearn: 0.0911342\ttotal: 5.38ms\tremaining: 3.58ms\n",
      "6:\tlearn: 0.0710263\ttotal: 6.12ms\tremaining: 2.62ms\n",
      "7:\tlearn: 0.0535158\ttotal: 6.88ms\tremaining: 1.72ms\n",
      "8:\tlearn: 0.0410641\ttotal: 7.67ms\tremaining: 852us\n",
      "9:\tlearn: 0.0336307\ttotal: 8.44ms\tremaining: 0us\n",
      "0:\tlearn: 0.4865212\ttotal: 697us\tremaining: 6.28ms\n",
      "1:\tlearn: 0.2832762\ttotal: 1.56ms\tremaining: 6.23ms\n",
      "2:\tlearn: 0.2007625\ttotal: 2.33ms\tremaining: 5.43ms\n",
      "3:\tlearn: 0.1885437\ttotal: 3.07ms\tremaining: 4.6ms\n",
      "4:\tlearn: 0.1586864\ttotal: 3.87ms\tremaining: 3.87ms\n",
      "5:\tlearn: 0.1113729\ttotal: 4.62ms\tremaining: 3.08ms\n",
      "6:\tlearn: 0.0752033\ttotal: 5.51ms\tremaining: 2.36ms\n",
      "7:\tlearn: 0.0511862\ttotal: 6.27ms\tremaining: 1.57ms\n",
      "8:\tlearn: 0.0448846\ttotal: 7.04ms\tremaining: 782us\n",
      "9:\tlearn: 0.0340740\ttotal: 7.78ms\tremaining: 0us\n"
     ]
    },
    {
     "name": "stdout",
     "output_type": "stream",
     "text": [
      "0:\tlearn: 0.4893202\ttotal: 752us\tremaining: 6.77ms\n",
      "1:\tlearn: 0.2851097\ttotal: 2.51ms\tremaining: 10.1ms\n",
      "2:\tlearn: 0.1986031\ttotal: 4.22ms\tremaining: 9.84ms\n",
      "3:\tlearn: 0.1579626\ttotal: 5.85ms\tremaining: 8.77ms\n",
      "4:\tlearn: 0.1070171\ttotal: 7.41ms\tremaining: 7.41ms\n",
      "5:\tlearn: 0.0828608\ttotal: 9.41ms\tremaining: 6.28ms\n",
      "6:\tlearn: 0.0605118\ttotal: 11.6ms\tremaining: 4.95ms\n",
      "7:\tlearn: 0.0463471\ttotal: 12.3ms\tremaining: 3.08ms\n",
      "8:\tlearn: 0.0385531\ttotal: 13.1ms\tremaining: 1.46ms\n",
      "9:\tlearn: 0.0339952\ttotal: 14.1ms\tremaining: 0us\n",
      "0:\tlearn: 0.4506219\ttotal: 750us\tremaining: 6.75ms\n",
      "1:\tlearn: 0.2501989\ttotal: 1.68ms\tremaining: 6.71ms\n",
      "2:\tlearn: 0.1814505\ttotal: 2.51ms\tremaining: 5.86ms\n",
      "3:\tlearn: 0.1515258\ttotal: 3.3ms\tremaining: 4.95ms\n",
      "4:\tlearn: 0.1139687\ttotal: 4.1ms\tremaining: 4.1ms\n",
      "5:\tlearn: 0.0965810\ttotal: 4.87ms\tremaining: 3.25ms\n",
      "6:\tlearn: 0.0654067\ttotal: 5.63ms\tremaining: 2.41ms\n",
      "7:\tlearn: 0.0495951\ttotal: 6.4ms\tremaining: 1.6ms\n",
      "8:\tlearn: 0.0422209\ttotal: 7.21ms\tremaining: 801us\n",
      "9:\tlearn: 0.0365723\ttotal: 8.34ms\tremaining: 0us\n",
      "0:\tlearn: 0.3875840\ttotal: 717us\tremaining: 6.46ms\n",
      "1:\tlearn: 0.2303864\ttotal: 2.29ms\tremaining: 9.15ms\n",
      "2:\tlearn: 0.1691702\ttotal: 3.76ms\tremaining: 8.78ms\n",
      "3:\tlearn: 0.1384934\ttotal: 5.41ms\tremaining: 8.12ms\n",
      "4:\tlearn: 0.1086599\ttotal: 7.19ms\tremaining: 7.19ms\n",
      "5:\tlearn: 0.0955900\ttotal: 8.03ms\tremaining: 5.35ms\n",
      "6:\tlearn: 0.0642318\ttotal: 8.83ms\tremaining: 3.78ms\n",
      "7:\tlearn: 0.0475182\ttotal: 9.63ms\tremaining: 2.41ms\n",
      "8:\tlearn: 0.0376284\ttotal: 10.5ms\tremaining: 1.16ms\n",
      "9:\tlearn: 0.0323946\ttotal: 11.2ms\tremaining: 0us\n",
      "0:\tlearn: 0.4893202\ttotal: 752us\tremaining: 6.78ms\n",
      "1:\tlearn: 0.4339621\ttotal: 1.65ms\tremaining: 6.59ms\n",
      "2:\tlearn: 0.2776843\ttotal: 2.45ms\tremaining: 5.72ms\n",
      "3:\tlearn: 0.2291488\ttotal: 3.27ms\tremaining: 4.9ms\n",
      "4:\tlearn: 0.1627226\ttotal: 4.12ms\tremaining: 4.12ms\n",
      "5:\tlearn: 0.1294458\ttotal: 4.96ms\tremaining: 3.31ms\n",
      "6:\tlearn: 0.1042712\ttotal: 5.78ms\tremaining: 2.48ms\n",
      "7:\tlearn: 0.0864562\ttotal: 6.61ms\tremaining: 1.65ms\n",
      "8:\tlearn: 0.0569072\ttotal: 7.56ms\tremaining: 840us\n",
      "9:\tlearn: 0.0494430\ttotal: 8.36ms\tremaining: 0us\n",
      "0:\tlearn: 0.5496673\ttotal: 716us\tremaining: 6.45ms\n",
      "1:\tlearn: 0.4922793\ttotal: 1.83ms\tremaining: 7.34ms\n",
      "2:\tlearn: 0.2963707\ttotal: 2.65ms\tremaining: 6.18ms\n",
      "3:\tlearn: 0.2422485\ttotal: 3.48ms\tremaining: 5.22ms\n",
      "4:\tlearn: 0.1587221\ttotal: 4.3ms\tremaining: 4.3ms\n",
      "5:\tlearn: 0.1254322\ttotal: 5.06ms\tremaining: 3.37ms\n",
      "6:\tlearn: 0.1074590\ttotal: 5.83ms\tremaining: 2.5ms\n",
      "7:\tlearn: 0.0919213\ttotal: 6.6ms\tremaining: 1.65ms\n",
      "8:\tlearn: 0.0753155\ttotal: 7.34ms\tremaining: 816us\n",
      "9:\tlearn: 0.0664869\ttotal: 8.18ms\tremaining: 0us\n",
      "0:\tlearn: 0.5558842\ttotal: 774us\tremaining: 6.97ms\n",
      "1:\tlearn: 0.4380144\ttotal: 1.69ms\tremaining: 6.76ms\n",
      "2:\tlearn: 0.2721814\ttotal: 2.48ms\tremaining: 5.8ms\n",
      "3:\tlearn: 0.2388840\ttotal: 3.31ms\tremaining: 4.96ms\n",
      "4:\tlearn: 0.1773068\ttotal: 4.12ms\tremaining: 4.12ms\n",
      "5:\tlearn: 0.1628796\ttotal: 4.9ms\tremaining: 3.27ms\n",
      "6:\tlearn: 0.1062734\ttotal: 5.67ms\tremaining: 2.43ms\n",
      "7:\tlearn: 0.0785712\ttotal: 6.43ms\tremaining: 1.61ms\n",
      "8:\tlearn: 0.0621940\ttotal: 7.23ms\tremaining: 803us\n",
      "9:\tlearn: 0.0543322\ttotal: 8.02ms\tremaining: 0us\n",
      "0:\tlearn: 0.5516605\ttotal: 1.4ms\tremaining: 12.6ms\n",
      "1:\tlearn: 0.4394568\ttotal: 2.43ms\tremaining: 9.71ms\n",
      "2:\tlearn: 0.2725104\ttotal: 3.36ms\tremaining: 7.85ms\n",
      "3:\tlearn: 0.2419653\ttotal: 4.62ms\tremaining: 6.92ms\n",
      "4:\tlearn: 0.1789829\ttotal: 6.29ms\tremaining: 6.29ms\n",
      "5:\tlearn: 0.1543976\ttotal: 8.19ms\tremaining: 5.46ms\n",
      "6:\tlearn: 0.1261748\ttotal: 9.31ms\tremaining: 3.99ms\n",
      "7:\tlearn: 0.1055217\ttotal: 10.1ms\tremaining: 2.53ms\n",
      "8:\tlearn: 0.0697893\ttotal: 11.1ms\tremaining: 1.24ms\n",
      "9:\tlearn: 0.0601231\ttotal: 12.4ms\tremaining: 0us\n",
      "[0.8        1.         1.         0.5        1.         1.\n",
      " 1.         0.66666667 1.         1.         1.         1.\n",
      " 1.         1.        ]\n"
     ]
    }
   ],
   "source": [
    "clf = CatBoostClassifier(iterations=10,\n",
    "                           learning_rate=1,\n",
    "                           depth=2,\n",
    "                           loss_function='MultiClass'\n",
    "                          )\n",
    "print(\"Accuracy: %0.2f (+/- %0.2f)\" % \n",
    "      (cross_val_score(clf, norm_video_features.drop(['target'], axis = 1), norm_video_features[\"target\"], cv=14).mean(), \n",
    "            cross_val_score(clf, norm_video_features.drop(['target'], axis = 1), norm_video_features[\"target\"], cv=14).std() * 2))\n",
    "print(cross_val_score(clf, norm_video_features.drop(['target'], axis = 1), norm_video_features[\"target\"], cv=14))\n",
    "# print(clf.predict(X_test))\n",
    "# model.predict_proba(X_test)"
   ]
  },
  {
   "cell_type": "code",
   "execution_count": 447,
   "metadata": {
    "ExecuteTime": {
     "end_time": "2020-01-05T15:11:32.871378Z",
     "start_time": "2020-01-05T15:11:30.641505Z"
    }
   },
   "outputs": [
    {
     "name": "stdout",
     "output_type": "stream",
     "text": [
      "Accuracy: 0.98 (+/- 0.13)\n",
      "[1.   1.   1.   0.75 1.   1.   1.   1.   1.   1.   1.   1.   1.   1.  ]\n"
     ]
    }
   ],
   "source": [
    "clf = GradientBoostingClassifier(n_estimators=100, \n",
    "                                    max_features=4, \n",
    "                                    max_depth=4, \n",
    "                                    random_state=1\n",
    "                                   )\n",
    "print(\"Accuracy: %0.2f (+/- %0.2f)\" % \n",
    "      (cross_val_score(clf, norm_video_features.drop(['target'], axis = 1), norm_video_features[\"target\"], cv=14).mean(), \n",
    "            cross_val_score(clf, norm_video_features.drop(['target'], axis = 1), norm_video_features[\"target\"], cv=14).std() * 2))\n",
    "print(cross_val_score(clf, norm_video_features.drop(['target'], axis = 1), norm_video_features[\"target\"], cv=14))\n",
    "# print(y_test)\n",
    "# print(clf.predict_proba(X_test))"
   ]
  },
  {
   "cell_type": "markdown",
   "metadata": {
    "ExecuteTime": {
     "end_time": "2019-12-31T12:58:29.843532Z",
     "start_time": "2019-12-31T12:58:29.837787Z"
    }
   },
   "source": [
    "### As we can see GBC shows the most accurate result, but at the same time, this method is quite fast compared to, for example, Ada (which about the same accuracy)\n",
    "### But for my mind we should lose a little in quality, but to do this process almost instantly => will choose SVC\n",
    "### ------"
   ]
  },
  {
   "cell_type": "markdown",
   "metadata": {
    "ExecuteTime": {
     "end_time": "2019-12-31T14:23:05.294620Z",
     "start_time": "2019-12-31T14:23:05.283927Z"
    }
   },
   "source": []
  },
  {
   "cell_type": "markdown",
   "metadata": {},
   "source": [
    "# Prediction\n",
    "### The function below needs for our prediction (it's look like very similar to our first function for data collection):\n",
    "### The result:\n",
    "#### Access verdict\n",
    "### Algorithm:\n",
    "#### Firstly we take first frame and recognize the man (if he/she is not in the access_table we wouldn't give access for him/her and wouldn't do any other steps)\n",
    "#### If we \"know\" this man. We make the same dataframe as in data collection and predict motion. \n",
    "#### Then compare the model prediction with motion of this man in our \"name-motion table\"."
   ]
  },
  {
   "cell_type": "code",
   "execution_count": 448,
   "metadata": {
    "ExecuteTime": {
     "end_time": "2020-01-05T15:11:32.905379Z",
     "start_time": "2020-01-05T15:11:32.874476Z"
    }
   },
   "outputs": [],
   "source": [
    "##if you want to see how сorrect a neural network works, you should uncomment lines starting with 1 character #\n",
    "def access_request(input_sources):\n",
    "    n_iters = 25\n",
    "    all_points = []\n",
    "    name = []\n",
    "    gest = []\n",
    "    n_of_video = -1\n",
    "    f = 1\n",
    "    for input_source in input_sources:\n",
    "        \n",
    "        print(input_source)\n",
    "        cap = cv2.VideoCapture(input_source)\n",
    "        hasFrame, frame = cap.read()\n",
    "        frameWidth = frame.shape[1]\n",
    "        frameHeight = frame.shape[0]\n",
    "        \n",
    "        n_iter = 0\n",
    "        all_points_x = np.zeros(3, dtype = float).reshape(3,1)\n",
    "        all_points_y = np.zeros(3, dtype = float).reshape(3,1)\n",
    "        #vid_writer = cv2.VideoWriter('output.avi',cv2.VideoWriter_fourcc('M','J','P','G'), 10, (frame.shape[1],frame.shape[0]))\n",
    "        for k in range(n_iters):\n",
    "            \n",
    "            hasFrame, frame = cap.read()\n",
    "            hasFrame, frame = cap.read()\n",
    "            hasFrame, frame = cap.read()\n",
    "            hasFrame, frame = cap.read()\n",
    "            if not hasFrame:\n",
    "                print(\"Video is too short, just \", n_iter*4, \"/100 frames \")\n",
    "                break\n",
    "            \n",
    "            if n_iter == 1:\n",
    "                unknown_image = cv2.cvtColor(frame, cv2.COLOR_BGR2RGB)\n",
    "                # Find the face and face encoding in the unknown image\n",
    "                face_locations = face_recognition.face_locations(unknown_image)\n",
    "                face_encodings = face_recognition.face_encodings(unknown_image, face_locations)\n",
    "                matches = face_recognition.compare_faces(known_face_encodings, face_encodings[0])\n",
    "                face_distances = face_recognition.face_distance(known_face_encodings, face_encodings[0])\n",
    "                best_match_index = np.argmin(face_distances)\n",
    "                if matches[best_match_index]:\n",
    "                    name.append(known_face_names[best_match_index])\n",
    "                    n_of_video += 1;\n",
    "                else:\n",
    "                    print(\"\\n No access! \\n\\n\")\n",
    "                    f = 0\n",
    "                    break\n",
    "          \n",
    "            \n",
    "            #frameCopy = np.copy(frame)\n",
    "            \n",
    "            \n",
    "            \n",
    "            inpBlob = cv2.dnn.blobFromImage(frame, 1.0 / 255, (frameWidth // 8, frameHeight // 8),(0, 0, 0), swapRB=False, crop=False)\n",
    "            net.setInput(inpBlob)\n",
    "            output = net.forward()\n",
    "\n",
    "            H = output.shape[2]\n",
    "            W = output.shape[3]\n",
    "                ## Array to store the detected keypoints in 1 frame\n",
    "            points_x = np.zeros(3, dtype = float).reshape(3,1)\n",
    "            points_y = np.zeros(3, dtype = float).reshape(3,1)\n",
    "            for i in [2,3,4]: \n",
    "                    ## confidence map of corresponding body's part.\n",
    "                probMap = output[0, i, :, :]\n",
    "                \n",
    "                    ## Find global maxima of the probMap.\n",
    "                minVal, prob, minLoc, point = cv2.minMaxLoc(probMap)\n",
    "\n",
    "                    ## Scale the point to fit on the original image\n",
    "                x = (point[0]) / W\n",
    "                y = (point[1]) / H\n",
    "\n",
    "                #cv2.circle(frameCopy, (int(x), int(y)), 8, (0, 255, 255), thickness=-1, lineType=cv2.FILLED)\n",
    "                #cv2.putText(frameCopy, \"{}\".format(i), (int(x), int(y)), cv2.FONT_HERSHEY_SIMPLEX, 1, (0, 0, 255), 2, lineType=cv2.LINE_AA)\n",
    "\n",
    "                points_x[i-2] = x\n",
    "                points_y[i-2] = (y)\n",
    "\n",
    "                ## Draw Skeleton\n",
    "            #   for pair in POSE_PAIRS:\n",
    "            #       partA = pair[0]\n",
    "            #       partB = pair[1]\n",
    "            #       if points[partA] and points[partB]:\n",
    "            #           cv2.line(frame, points[partA], points[partB], (0, 255, 255), 3, lineType=cv2.LINE_AA)\n",
    "            #           cv2.circle(frame, points[partA], 8, (0, 0, 255), thickness=-1, lineType=cv2.FILLED)\n",
    "            #           cv2.circle(frame, points[partB], 8, (0, 0, 255), thickness=-1, lineType=cv2.FILLED)\n",
    "            all_points_x = np.hstack ([all_points_x, points_x])\n",
    "            all_points_y = np.hstack ([all_points_y, points_y])\n",
    "\n",
    "            n_iter+=1\n",
    "            \n",
    "            #cv2.putText(frame, \"OpenPose using OpenCV\", (50, 50), cv2.FONT_HERSHEY_COMPLEX, 1, (255, 50, 0), 2, lineType=cv2.LINE_AA)\n",
    "            #cv2.imshow('Output-Keypoints', frameCopy)\n",
    "            #cv2.imshow('Output-Skeleton', frame)\n",
    "            #vid_writer.write(frameCopy)\n",
    "            #vid_writer.release()\n",
    "        if (f): \n",
    "            all_points_x = all_points_x - all_points_x[0]\n",
    "            all_points_y = all_points_y - all_points_y[0]\n",
    "\n",
    "            asdf, all_points_x, asdf = np.hsplit(all_points_x, [1,100000])\n",
    "            asdf, all_points_y, asdf = np.hsplit(all_points_y, [1,100000])\n",
    "\n",
    "            asdf, all_points_x, asdf = np.vsplit(all_points_x, [1,100000])\n",
    "            asdf, all_points_y, asdf = np.vsplit(all_points_y, [1,100000])\n",
    "\n",
    "            image_vector = np.array(np.hstack ([all_points_x, all_points_y])).reshape(-1)\n",
    "            norm_video_features_test = pd.DataFrame({'Coord_points': image_vector})\n",
    "            for i in range(100):\n",
    "                norm_video_features_test[\"{}\".format(i+1)] = 999\n",
    "                norm_video_features_test[\"{}\".format(i+1)] = norm_video_features_test['Coord_points'][i]\n",
    "            norm_video_features_test = norm_video_features_test.drop(['Coord_points'], axis = 1)\n",
    "            predict = clf.predict_proba(norm_video_features_test)\n",
    "            if predict[0][0] > 0.7:\n",
    "                gest.append(\"Поднятие руки\")\n",
    "            elif predict[0][1] > 0.7:\n",
    "                gest.append(\"Приветствие\")\n",
    "            else: \n",
    "                gest.append(\"Другой жест\")\n",
    "\n",
    "            if (gest[n_of_video] == name_motion_table[name[n_of_video]]):\n",
    "                print(\"\\n Hello, \", name[n_of_video], \"! \\n\\n\")\n",
    "            elif name[n_of_video] in access_df:\n",
    "                print(\"\\n Please try again,\", name[n_of_video], \"[\", gest[n_of_video], \"] \\n\\n\")\n",
    "        else:\n",
    "            f = 1\n"
   ]
  },
  {
   "cell_type": "code",
   "execution_count": 449,
   "metadata": {
    "ExecuteTime": {
     "end_time": "2020-01-05T15:11:32.925060Z",
     "start_time": "2020-01-05T15:11:32.910442Z"
    }
   },
   "outputs": [],
   "source": [
    "clf = svm.SVC(gamma='scale', \n",
    "              decision_function_shape='ovo', \n",
    "              C = 100,\n",
    "              probability=True\n",
    "             ).fit(norm_video_features.drop(['target'], axis = 1), norm_video_features['target'])"
   ]
  },
  {
   "cell_type": "code",
   "execution_count": 450,
   "metadata": {
    "ExecuteTime": {
     "end_time": "2020-01-05T15:11:32.934414Z",
     "start_time": "2020-01-05T15:11:32.928673Z"
    }
   },
   "outputs": [],
   "source": [
    "name_motion_table = {'Andrey Shestacov': \"Приветствие\"}\n",
    "input_sources_test = [\"/Users/ofitserovvladislav/Downloads/IMG_9796.mp4\",\n",
    "                      \"/Users/ofitserovvladislav/Downloads/IMG_9797.mp4\",\n",
    "                      \"/Users/ofitserovvladislav/Downloads/IMG_9798.mp4\"\n",
    "                     ]"
   ]
  },
  {
   "cell_type": "code",
   "execution_count": 451,
   "metadata": {
    "ExecuteTime": {
     "end_time": "2020-01-05T15:12:18.862960Z",
     "start_time": "2020-01-05T15:11:32.943502Z"
    }
   },
   "outputs": [
    {
     "name": "stdout",
     "output_type": "stream",
     "text": [
      "/Users/ofitserovvladislav/Downloads/IMG_9796.mp4\n",
      "\n",
      " Hello,  Andrey Shestacov ! \n",
      "\n",
      "\n",
      "/Users/ofitserovvladislav/Downloads/IMG_9797.mp4\n",
      "\n",
      " Please try again, Andrey Shestacov [ Поднятие руки ] \n",
      "\n",
      "\n",
      "/Users/ofitserovvladislav/Downloads/IMG_9798.mp4\n",
      "\n",
      " No access! \n",
      "\n",
      "\n"
     ]
    }
   ],
   "source": [
    "access_request(input_sources_test)"
   ]
  }
 ],
 "metadata": {
  "kernelspec": {
   "display_name": "Python 3",
   "language": "python",
   "name": "python3"
  },
  "language_info": {
   "codemirror_mode": {
    "name": "ipython",
    "version": 3
   },
   "file_extension": ".py",
   "mimetype": "text/x-python",
   "name": "python",
   "nbconvert_exporter": "python",
   "pygments_lexer": "ipython3",
   "version": "3.7.4"
  }
 },
 "nbformat": 4,
 "nbformat_minor": 2
}
